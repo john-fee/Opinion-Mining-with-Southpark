{
  "nbformat": 4,
  "nbformat_minor": 0,
  "metadata": {
    "colab": {
      "name": "Opinion Mining.ipynb",
      "version": "0.3.2",
      "provenance": [],
      "collapsed_sections": []
    },
    "kernelspec": {
      "name": "python3",
      "display_name": "Python 3"
    }
  },
  "cells": [
    {
      "metadata": {
        "id": "UXjLaSsn3vWG",
        "colab_type": "text"
      },
      "cell_type": "markdown",
      "source": [
        "## Data Preparation"
      ]
    },
    {
      "metadata": {
        "id": "5BbsVht72CpC",
        "colab_type": "code",
        "colab": {
          "base_uri": "https://localhost:8080/",
          "height": 803
        },
        "outputId": "c756080d-4f2d-4ae8-9d75-8fa346391a8b"
      },
      "cell_type": "code",
      "source": [
        "# Install libraries\n",
        "!pip install gensim"
      ],
      "execution_count": 1,
      "outputs": [
        {
          "output_type": "stream",
          "text": [
            "Collecting gensim\n",
            "\u001b[?25l  Downloading https://files.pythonhosted.org/packages/33/33/df6cb7acdcec5677ed130f4800f67509d24dbec74a03c329fcbf6b0864f0/gensim-3.4.0-cp36-cp36m-manylinux1_x86_64.whl (22.6MB)\n",
            "\u001b[K    100% |████████████████████████████████| 22.6MB 2.0MB/s \n",
            "\u001b[?25hCollecting smart-open>=1.2.1 (from gensim)\n",
            "  Downloading https://files.pythonhosted.org/packages/4b/69/c92661a333f733510628f28b8282698b62cdead37291c8491f3271677c02/smart_open-1.5.7.tar.gz\n",
            "Requirement already satisfied: six>=1.5.0 in /usr/local/lib/python3.6/dist-packages (from gensim) (1.11.0)\n",
            "Requirement already satisfied: scipy>=0.18.1 in /usr/local/lib/python3.6/dist-packages (from gensim) (0.19.1)\n",
            "Requirement already satisfied: numpy>=1.11.3 in /usr/local/lib/python3.6/dist-packages (from gensim) (1.14.3)\n",
            "Collecting boto>=2.32 (from smart-open>=1.2.1->gensim)\n",
            "\u001b[?25l  Downloading https://files.pythonhosted.org/packages/bd/b7/a88a67002b1185ed9a8e8a6ef15266728c2361fcb4f1d02ea331e4c7741d/boto-2.48.0-py2.py3-none-any.whl (1.4MB)\n",
            "\u001b[K    100% |████████████████████████████████| 1.4MB 18.0MB/s \n",
            "\u001b[?25hCollecting bz2file (from smart-open>=1.2.1->gensim)\n",
            "  Downloading https://files.pythonhosted.org/packages/61/39/122222b5e85cd41c391b68a99ee296584b2a2d1d233e7ee32b4532384f2d/bz2file-0.98.tar.gz\n",
            "Requirement already satisfied: requests in /usr/local/lib/python3.6/dist-packages (from smart-open>=1.2.1->gensim) (2.18.4)\n",
            "Collecting boto3 (from smart-open>=1.2.1->gensim)\n",
            "\u001b[?25l  Downloading https://files.pythonhosted.org/packages/21/1c/898ab9025a1725d15c3b121f6c91642a2535acc5d363acb328d6b37ff6d1/boto3-1.7.40-py2.py3-none-any.whl (128kB)\n",
            "\u001b[K    100% |████████████████████████████████| 133kB 26.7MB/s \n",
            "\u001b[?25hRequirement already satisfied: idna<2.7,>=2.5 in /usr/local/lib/python3.6/dist-packages (from requests->smart-open>=1.2.1->gensim) (2.6)\n",
            "Requirement already satisfied: chardet<3.1.0,>=3.0.2 in /usr/local/lib/python3.6/dist-packages (from requests->smart-open>=1.2.1->gensim) (3.0.4)\n",
            "Requirement already satisfied: certifi>=2017.4.17 in /usr/local/lib/python3.6/dist-packages (from requests->smart-open>=1.2.1->gensim) (2018.4.16)\n",
            "Requirement already satisfied: urllib3<1.23,>=1.21.1 in /usr/local/lib/python3.6/dist-packages (from requests->smart-open>=1.2.1->gensim) (1.22)\n",
            "Collecting botocore<1.11.0,>=1.10.40 (from boto3->smart-open>=1.2.1->gensim)\n",
            "\u001b[?25l  Downloading https://files.pythonhosted.org/packages/fe/6f/e9c3981f8b7e93bfa4461b754563b0e917968947920d0bdcf2a7dcf77da2/botocore-1.10.40-py2.py3-none-any.whl (4.3MB)\n",
            "\u001b[K    100% |████████████████████████████████| 4.3MB 10.6MB/s \n",
            "\u001b[?25hCollecting s3transfer<0.2.0,>=0.1.10 (from boto3->smart-open>=1.2.1->gensim)\n",
            "\u001b[?25l  Downloading https://files.pythonhosted.org/packages/d7/14/2a0004d487464d120c9fb85313a75cd3d71a7506955be458eebfe19a6b1d/s3transfer-0.1.13-py2.py3-none-any.whl (59kB)\n",
            "\u001b[K    100% |████████████████████████████████| 61kB 20.0MB/s \n",
            "\u001b[?25hCollecting jmespath<1.0.0,>=0.7.1 (from boto3->smart-open>=1.2.1->gensim)\n",
            "  Downloading https://files.pythonhosted.org/packages/b7/31/05c8d001f7f87f0f07289a5fc0fc3832e9a57f2dbd4d3b0fee70e0d51365/jmespath-0.9.3-py2.py3-none-any.whl\n",
            "Requirement already satisfied: python-dateutil<3.0.0,>=2.1; python_version >= \"2.7\" in /usr/local/lib/python3.6/dist-packages (from botocore<1.11.0,>=1.10.40->boto3->smart-open>=1.2.1->gensim) (2.5.3)\n",
            "Collecting docutils>=0.10 (from botocore<1.11.0,>=1.10.40->boto3->smart-open>=1.2.1->gensim)\n",
            "\u001b[?25l  Downloading https://files.pythonhosted.org/packages/36/fa/08e9e6e0e3cbd1d362c3bbee8d01d0aedb2155c4ac112b19ef3cae8eed8d/docutils-0.14-py3-none-any.whl (543kB)\n",
            "\u001b[K    100% |████████████████████████████████| 552kB 23.7MB/s \n",
            "\u001b[?25hBuilding wheels for collected packages: smart-open, bz2file\n",
            "  Running setup.py bdist_wheel for smart-open ... \u001b[?25l-\b \b\\\b \bdone\n",
            "\u001b[?25h  Stored in directory: /content/.cache/pip/wheels/b1/9e/7d/bb3d3b55c597e72617140a0638c06382a5f17283881eae163e\n",
            "  Running setup.py bdist_wheel for bz2file ... \u001b[?25l-\b \bdone\n",
            "\u001b[?25h  Stored in directory: /content/.cache/pip/wheels/81/75/d6/e1317bf09bf1af5a30befc2a007869fa6e1f516b8f7c591cb9\n",
            "Successfully built smart-open bz2file\n",
            "Installing collected packages: boto, bz2file, docutils, jmespath, botocore, s3transfer, boto3, smart-open, gensim\n",
            "Successfully installed boto-2.48.0 boto3-1.7.40 botocore-1.10.40 bz2file-0.98 docutils-0.14 gensim-3.4.0 jmespath-0.9.3 s3transfer-0.1.13 smart-open-1.5.7\n"
          ],
          "name": "stdout"
        }
      ]
    },
    {
      "metadata": {
        "id": "ih9FanCc7c07",
        "colab_type": "code",
        "colab": {}
      },
      "cell_type": "code",
      "source": [
        "# Load libraries\n",
        "import pandas as pd\n",
        "idx = pd.IndexSlice\n",
        "from gensim.parsing.preprocessing import preprocess_string"
      ],
      "execution_count": 0,
      "outputs": []
    },
    {
      "metadata": {
        "id": "DQFtklgQJ9LM",
        "colab_type": "text"
      },
      "cell_type": "markdown",
      "source": [
        "**Note:** Fix text cleaning, right now random letters are removed"
      ]
    },
    {
      "metadata": {
        "id": "PtvNHw8G71dg",
        "colab_type": "code",
        "colab": {}
      },
      "cell_type": "code",
      "source": [
        "# Scrape data\n",
        "def get_southpark_data(seasons_to_scrape = [x for x in range(1,20)]):\n",
        "  ###\n",
        "  ### Gets southpark script by season from github repository.  Only has data up through season 19.\n",
        "  ###\n",
        "  season_data_list = []\n",
        "  for season_number in seasons_to_scrape:\n",
        "    url = \"https://raw.githubusercontent.com/BobAdamsEE/SouthParkData/master/by-season/Season-{}.csv\".format(season_number)\n",
        "    season_df = pd.read_csv(url)\n",
        "    season_df[\"Episode\"] = str(season_number) + \"-\" + season_df[\"Episode\"].astype(str)\n",
        "    season_data_list.append(season_df)\n",
        "  southpark_data = pd.concat(season_data_list)\n",
        "  southpark_data.reset_index(drop = True,inplace = True)\n",
        "  southpark_data.set_index([\"Season\",\"Episode\",\"Character\"],inplace = True)\n",
        "  return southpark_data\n",
        "\n",
        "# Clean text\n",
        "def clean_text(text):\n",
        "  text.replace(\"\\n\",\" \") # Remove \"\\n\" that occurs at the end of every string\n",
        "  cleaned_text = preprocess_string(text)\n",
        "  # Need phrase detection\n",
        "  return cleaned_text\n",
        "\n",
        "class corpus_generator(object):\n",
        "  def __init__(self,data,cleaned = False):\n",
        "    self.data = data\n",
        "    self.cleaned = cleaned\n",
        "  def __iter__(self):\n",
        "    for doc in self.data:\n",
        "      if not self.cleaned:\n",
        "        yield self._clean_text(doc)\n",
        "      else:\n",
        "        yield doc\n",
        "  def _clean_text(self,text):\n",
        "    text.replace(\"\\n\",\" \") # Remove \"\\n\" that occurs at the end of every string\n",
        "    cleaned_text = preprocess_string(text)\n",
        "    # Need phrase detection\n",
        "    return cleaned_text\n",
        "    \n",
        "    "
      ],
      "execution_count": 0,
      "outputs": []
    },
    {
      "metadata": {
        "id": "OsuyVwzpD-UD",
        "colab_type": "text"
      },
      "cell_type": "markdown",
      "source": [
        "Currently only analyzing seasons 1 - 3"
      ]
    },
    {
      "metadata": {
        "id": "tkspdqWJ2Rrf",
        "colab_type": "code",
        "colab": {}
      },
      "cell_type": "code",
      "source": [
        "# Data formatting\n",
        "southpark_data_all = get_southpark_data([1,2,3])\n",
        "southpark_data_all[\"Line_cleaned\"] = [clean_text(doc) for doc in southpark_data_all[\"Line\"]]"
      ],
      "execution_count": 0,
      "outputs": []
    },
    {
      "metadata": {
        "id": "846BdpQyHyW9",
        "colab_type": "code",
        "colab": {}
      },
      "cell_type": "code",
      "source": [
        "def document_merging(data,merge_by):\n",
        "  results_dict = {}\n",
        "  merge_by_index = data.index.names.index(merge_by)\n",
        "  merge_by_levels = data.index.levels[merge_by_index]\n",
        "  for level in merge_by_levels:\n",
        "    if merge_by == \"Season\":\n",
        "      data_subset = data.loc[idx[level,:,:],:]\n",
        "    if merge_by == \"Episode\":\n",
        "      data_subset = data.loc[idx[:,level,:],:]\n",
        "    if merge_by == \"Character\":\n",
        "      data_subset = data.loc[idx[:,:,level],:]\n",
        "    new_doc = []\n",
        "    for doc in data_subset[\"Line_cleaned\"]:\n",
        "      for token in doc:\n",
        "        new_doc.append(token)\n",
        "    results_dict[\"{}_{}\".format(merge_by,level)] = new_doc\n",
        "    \n",
        "  return results_dict \n",
        "\n",
        "southpark_data_by_season = document_merging(southpark_data_all,\"Season\")\n",
        "southpark_data_by_episode = document_merging(southpark_data_all,\"Episode\")\n",
        "southpark_data_by_character = document_merging(southpark_data_all,\"Character\")"
      ],
      "execution_count": 0,
      "outputs": []
    },
    {
      "metadata": {
        "id": "sucMXIM4HN8V",
        "colab_type": "text"
      },
      "cell_type": "markdown",
      "source": [
        "## Simple word vectorization\n"
      ]
    },
    {
      "metadata": {
        "id": "nXf6uYYlCv7u",
        "colab_type": "text"
      },
      "cell_type": "markdown",
      "source": [
        "First, let's examine the most important words, or \"keywords\", spoken by the character Cartman.  The simplest approach is to rank them by how frequently they are spoken."
      ]
    },
    {
      "metadata": {
        "id": "hdSmRpIXHyP0",
        "colab_type": "code",
        "colab": {
          "base_uri": "https://localhost:8080/",
          "height": 241
        },
        "outputId": "1f838ed8-6cd0-4249-8b6c-c610a4739a16"
      },
      "cell_type": "code",
      "source": [
        "# Sparse BoW\n",
        "# Word frequencies\n",
        "from gensim.corpora import Dictionary\n",
        "\n",
        "def get_most_common_words(dictionary,corpus_subset,verbose = False):\n",
        "  bag_of_words = dictionary.doc2bow(corpus_subset)\n",
        "  named_words = [(dictionary[word_id],frequency) for (word_id,frequency) in bag_of_words]\n",
        "  sorted_words = sorted(named_words,key = lambda x: x[1],reverse = True)\n",
        "  if verbose:\n",
        "    print(\"Number of unique words in the corpus subset: {}\".format(len(dictionary)))\n",
        "    print(\"Most common words\")\n",
        "    for i in range(10):\n",
        "      print(sorted_words[i])\n",
        "  return sorted_words\n",
        "    \n",
        "dictionary = Dictionary(southpark_data_by_character.values())\n",
        "most_important_words_frequency_Cartman = get_most_common_words(dictionary,southpark_data_by_character[\"Character_Cartman\"],verbose = True)"
      ],
      "execution_count": 58,
      "outputs": [
        {
          "output_type": "stream",
          "text": [
            "Number of unique words in the corpus subset: 7743\n",
            "Most common words\n",
            "('gui', 235)\n",
            "('hei', 118)\n",
            "('mom', 112)\n",
            "('come', 109)\n",
            "('like', 101)\n",
            "('yeah', 96)\n",
            "('gonna', 91)\n",
            "('kenni', 88)\n",
            "('bitch', 78)\n",
            "('ass', 77)\n"
          ],
          "name": "stdout"
        }
      ]
    },
    {
      "metadata": {
        "id": "KqqIGMpQnHCA",
        "colab_type": "text"
      },
      "cell_type": "markdown",
      "source": [
        "Now,  let's try using term frequency, inverse document frequency (tf-idf) to extract keywords for Cartman.  This will de-emphasize words which are spoken by multiple characters.  To obtain the tf-idf weighting for words, we treat the entire body of lines spoken by each character as a single document.\n",
        "\n",
        "**Note:** Investigate different reweighting schemes for tf-idf [link](http://mlwiki.org/index.php/TF-IDF#Good_Weighting_System)"
      ]
    },
    {
      "metadata": {
        "id": "mwf6IeIJ--kB",
        "colab_type": "code",
        "colab": {
          "base_uri": "https://localhost:8080/",
          "height": 223
        },
        "outputId": "f4f0aa71-0cef-47d1-c43b-30fc321670c7"
      },
      "cell_type": "code",
      "source": [
        "# TF-IDF\n",
        "# A reweighting of word frequency proportional to term frequency and inversely proportional to document frequency\n",
        "from gensim.models import TfidfModel\n",
        "\n",
        "def get_important_words_tfidf(dictionary,corpus,corpus_subset,verbose = False):\n",
        "  corpus_bag_of_words = (dictionary.doc2bow(doc) for doc in corpus) # Transforms corpus to bag of words representation\n",
        "  corpus_subset_bag_of_words = dictionary.doc2bow(corpus_subset)\n",
        "  model = TfidfModel(corpus_bag_of_words)  # Creates tf-idf weights\n",
        "  corpus_subset_tfidf = model[corpus_subset_bag_of_words]\n",
        "  named_words = [(dictionary[word_id],weight) for (word_id,weight) in corpus_subset_tfidf]\n",
        "  sorted_words = sorted(named_words,key = lambda x: x[1],reverse = True)\n",
        "  if verbose:\n",
        "    print(\"Most important words by tf-idf weighting\")\n",
        "    for i in range(10):\n",
        "      print(sorted_words[i])\n",
        "  return sorted_words\n",
        "  \n",
        "most_important_words_tfidf_Cartman = get_important_words_tfidf(dictionary,southpark_data_by_character.values(),southpark_data_by_character[\"Character_Cartman\"],verbose = True)\n"
      ],
      "execution_count": 7,
      "outputs": [
        {
          "output_type": "stream",
          "text": [
            "Most important words by tf-idf weighting\n",
            "('gui', 0.37706196961345956)\n",
            "('mom', 0.2640735476250679)\n",
            "('kenni', 0.18723997683637092)\n",
            "('kitti', 0.16817126890026224)\n",
            "('bitch', 0.16027546852681487)\n",
            "('hei', 0.15917684198677282)\n",
            "('dude', 0.14925902863195967)\n",
            "('ass', 0.13532278214298543)\n",
            "('gonna', 0.12932740335500675)\n",
            "('serious', 0.12426354418173974)\n"
          ],
          "name": "stdout"
        }
      ]
    },
    {
      "metadata": {
        "id": "4RO0jDpx9R7Q",
        "colab_type": "text"
      },
      "cell_type": "markdown",
      "source": [
        "BM25 document retrieval algorithm\n",
        "\n",
        "\n",
        "[reference](https://en.wikipedia.org/wiki/Okapi_BM25)"
      ]
    },
    {
      "metadata": {
        "id": "H0rdxMiW9OTQ",
        "colab_type": "code",
        "colab": {}
      },
      "cell_type": "code",
      "source": [
        "# BM25/BM25+"
      ],
      "execution_count": 0,
      "outputs": []
    },
    {
      "metadata": {
        "id": "4dbLxXdailvx",
        "colab_type": "text"
      },
      "cell_type": "markdown",
      "source": [
        "The code below features the Contextual Salience algorithm, a new approach on existing word importance measures which takes context into account.\n",
        "\n",
        "[arixv](https://arxiv.org/pdf/1803.08493.pdf)"
      ]
    },
    {
      "metadata": {
        "id": "Upo7gANAFF0C",
        "colab_type": "code",
        "colab": {}
      },
      "cell_type": "code",
      "source": [
        "import numpy as np\n",
        "class contextual_salience_model(object):\n",
        "  def __init__(self,corpus_vectorized):\n",
        "    # corpus needs to be in matrix form or we need to transform it here\n",
        "    self.corpus_vectorized = corpus_vectorized\n",
        "  \n",
        "  def __iter__(self):\n",
        "    # Go through corpus and apply contextual salience algorithm\n",
        "    # Need to implement\n",
        "    # ALSO NEED TO MAKE SURE DIMENSIONS LINE UP\n",
        "    S_corpus = None\n",
        "    \n",
        "    for doc in self.corpus_vectorized:\n",
        "      S_doc = None\n",
        "      yield self._contextual_salience(doc,S_doc,S_corpus)\n",
        "\n",
        "  def _contextual_salience(self,vector,S_doc,S_corpus):\n",
        "    ###\n",
        "    ### vector is a px1 vector representation of the document\n",
        "    ### S_doc is the covariance of the vector representations of the document (pxp)\n",
        "    ### S_corpus is the covariance of the vector representations of the corpus (pxp)\n",
        "    ###\n",
        "    S_doc_weighted = S_doc\n",
        "    S_corpus_weighted = S_corpus\n",
        "    return np.sqrt(vector.transpose() @ np.multiply(S_doc_weighted,S_corpus_weighted) @ vector)  \n",
        "\n",
        "\n",
        "def get_important_words(vector,doc,corpus):\n",
        "  corpus_bag_of_words = (dictionary.doc2bow(doc) for doc in corpus) # Transforms corpus to bag of words representation\n"
      ],
      "execution_count": 0,
      "outputs": []
    },
    {
      "metadata": {
        "id": "AK-kk8VhPhrn",
        "colab_type": "text"
      },
      "cell_type": "markdown",
      "source": [
        "How do a character's characteristic keywords change from season to season?"
      ]
    },
    {
      "metadata": {
        "id": "utlMI2O6T_wu",
        "colab_type": "code",
        "colab": {
          "base_uri": "https://localhost:8080/",
          "height": 355
        },
        "outputId": "f13970f0-94ee-49ef-ac0d-2e58ccb45e2a"
      },
      "cell_type": "code",
      "source": [
        "import seaborn as sns\n",
        "import matplotlib.pyplot as plt\n",
        "import itertools\n",
        "from collections import OrderedDict\n",
        "\n",
        "# Control graph defaults\n",
        "sns.set_style(\"ticks\")\n",
        "\n",
        "def get_word_importance_data(character,data):\n",
        "  # Get seasons to compare from data\n",
        "  season_multindex = data.index.names.index(\"Season\")\n",
        "  seasons_to_compare = data.index.levels[season_multindex]\n",
        "  \n",
        "  # Get vocab to initialize results dataframe\n",
        "  all_season_vocabulary = [word for word in Dictionary(data[\"Line_cleaned\"]).values()]\n",
        "  results_df = pd.DataFrame(columns = [\"Season\",\"Method\"] + all_season_vocabulary)\n",
        "  top_5_common_words = set()\n",
        "  top_5_important_words_tfidf = set()\n",
        "  \n",
        "  for season_number in seasons_to_compare:\n",
        "    # Get dictionary for season\n",
        "    season_subset = data.loc[idx[season_number,:,:],:]\n",
        "    data_by_character = document_merging(season_subset,\"Character\")\n",
        "    dictionary = Dictionary(data_by_character.values())\n",
        "    \n",
        "    # Get most common words\n",
        "    most_common_words = get_most_common_words(dictionary,data_by_character[character])\n",
        "    words_to_add = set([tup[0] for tup in most_common_words[0:5]])\n",
        "    top_5_frequency = top_5_common_words.union(words_to_add)\n",
        "    \n",
        "    temp_df = pd.DataFrame(dict(most_common_words),index = [0])\n",
        "    temp_df[\"Season\"] = season_number\n",
        "    temp_df[\"Method\"] = \"Frequency\"\n",
        "    results_df = results_df.append(temp_df)\n",
        "    \n",
        "    # Get most important words via tf-idf\n",
        "    most_important_words_tfidf = get_important_words_tfidf(dictionary,data_by_character.values(),southpark_data_by_character[character])\n",
        "    words_to_add = set([tup[0] for tup in most_important_words_tfidf[0:5]])\n",
        "    top_5_tfidf = top_5_important_words_tfidf.union(words_to_add)\n",
        "    \n",
        "    temp_df = pd.DataFrame(dict(most_important_words_tfidf),index = [0])\n",
        "    temp_df[\"Season\"] = season_number\n",
        "    temp_df[\"Method\"] = \"Tf-Idf\"\n",
        "    results_df = results_df.append(temp_df)\n",
        "    \n",
        "    # More word importance measures go here\n",
        "    \n",
        "    # Set all 0 indices to proper order\n",
        "    results_df.reset_index(drop = True,inplace = True)\n",
        "\n",
        "  return results_df,list(top_5_frequency),list(top_5_tfidf)\n",
        "\n",
        "def make_word_importance_graphs(character,data):\n",
        "  results_df,top_5_frequency,top_5_tfidf = get_word_importance_data(character,data)\n",
        "  graph_df = results_df.loc[:,[\"Season\", \"Method\"] + top_5_frequency + top_5_tfidf]\n",
        "  \n",
        "  words_to_graph = sorted(list(set(top_5_frequency + top_5_tfidf)))\n",
        "  seasons = list(graph_df[\"Season\"].unique())\n",
        "  fig,axes = plt.subplots(1,2,figsize = (17,5))\n",
        "  \n",
        "  my_palette = itertools.cycle(sns.color_palette(\"husl\")) # graph wasn't properly cycling through colors\n",
        "  \n",
        "  # Word importance for each method\n",
        "  methods_to_plot = list(graph_df[\"Method\"].unique())\n",
        "  for axis,method in zip(fig.axes,methods_to_plot):\n",
        "    row_mask = graph_df[\"Method\"] == method\n",
        "    x = graph_df.loc[row_mask,[\"Season\"]]\n",
        "    \n",
        "    # Plot importance for each word\n",
        "    for word in words_to_graph:\n",
        "      y = graph_df.loc[row_mask,[word]]\n",
        "      axis.plot(x,y,label = word,color = next(my_palette))\n",
        "\n",
        "    # Format graph\n",
        "    axis.set_title(\"Word importance by {}\".format(method))\n",
        "    axis.set_xlabel(\"Season\")\n",
        "    axis.set_xticks(seasons)\n",
        "    axis.set_ylabel(\"Importance Measure\")\n",
        "\n",
        "  # Other graph formatting\n",
        "  \n",
        "  handles, labels = axis.get_legend_handles_labels()\n",
        "  by_label = OrderedDict(zip(labels, handles))\n",
        "  leg = axis.legend(by_label.values(), by_label.keys(),bbox_to_anchor=(1.2,1), loc=\"upper right\",frameon = True,edgecolor = \"black\")\n",
        "  leg.get_frame().set_linewidth(1)\n",
        "  plt.show()\n",
        "\n",
        "make_word_importance_graphs(\"Character_Cartman\",southpark_data_all)"
      ],
      "execution_count": 53,
      "outputs": [
        {
          "output_type": "display_data",
          "data": {
            "image/png": "[encoded data removed]",
            "text/plain": [
              "<matplotlib.figure.Figure at 0x7f318b662eb8>"
            ]
          },
          "metadata": {
            "tags": []
          }
        }
      ]
    },
    {
      "metadata": {
        "id": "64-BTx7eiCzw",
        "colab_type": "text"
      },
      "cell_type": "markdown",
      "source": [
        "## Embedding Techniques"
      ]
    },
    {
      "metadata": {
        "id": "aaSXfHCgmIx_",
        "colab_type": "text"
      },
      "cell_type": "markdown",
      "source": [
        "How can we mathematically represent the lines spoken by each character in such a way that the similarity between character lines is preserved?  By using word2vec and doc2vec, we can \"embed\" the words and lines spoken by each character into a low dimensional space where similar words and lines are close to each other.\n",
        "\n",
        "Let's try finding words which are similar to Cartman.\n",
        "\n",
        "\n",
        "**Note:** Investigate PMI, smoothing/regularization can be done to improve results\n",
        "\n",
        "[article](https://multithreaded.stitchfix.com/blog/2017/10/18/stop-using-word2vec/) on effectiveness of this method vs word2vec"
      ]
    },
    {
      "metadata": {
        "id": "5F8FTd-Djl7c",
        "colab_type": "code",
        "colab": {}
      },
      "cell_type": "code",
      "source": [
        "# Word2Vec\n",
        "from gensim.models import Word2Vec\n",
        "\n",
        "model_w2v = Word2Vec(southpark_data_all[\"Line_cleaned\"],size = 300,iter = 1000)"
      ],
      "execution_count": 0,
      "outputs": []
    },
    {
      "metadata": {
        "id": "h4MiZpqjZUsh",
        "colab_type": "code",
        "colab": {
          "base_uri": "https://localhost:8080/",
          "height": 204
        },
        "outputId": "fbd154ee-1fe8-4b09-93f1-904036e6ba5d"
      },
      "cell_type": "code",
      "source": [
        "model_w2v.wv.most_similar(positive = [\"cartman\"])"
      ],
      "execution_count": 78,
      "outputs": [
        {
          "output_type": "execute_result",
          "data": {
            "text/plain": [
              "[('think', 0.34619569778442383),\n",
              " ('kyle', 0.31974905729293823),\n",
              " ('gui', 0.3036838173866272),\n",
              " ('like', 0.29474273324012756),\n",
              " ('yeah', 0.2566911578178406),\n",
              " ('know', 0.2540469169616699),\n",
              " ('hei', 0.24339362978935242),\n",
              " ('god', 0.24206410348415375),\n",
              " ('kenni', 0.2406468689441681),\n",
              " ('got', 0.23828786611557007)]"
            ]
          },
          "metadata": {
            "tags": []
          },
          "execution_count": 78
        }
      ]
    },
    {
      "metadata": {
        "id": "VOzueI18eXL7",
        "colab_type": "code",
        "colab": {
          "base_uri": "https://localhost:8080/",
          "height": 204
        },
        "outputId": "2d752a68-3e6f-4159-a1d2-e7361428ca19"
      },
      "cell_type": "code",
      "source": [
        "# Cartman's signature line is \"screw you guys\"\n",
        "model_w2v.wv.most_similar(positive=[\"screw\",\"gui\"])"
      ],
      "execution_count": 86,
      "outputs": [
        {
          "output_type": "execute_result",
          "data": {
            "text/plain": [
              "[('dude', 0.300290048122406),\n",
              " ('come', 0.23482705652713776),\n",
              " ('gonna', 0.23349641263484955),\n",
              " ('mom', 0.22244280576705933),\n",
              " ('kenni', 0.21986979246139526),\n",
              " ('yeah', 0.20225341618061066),\n",
              " ('kid', 0.19998086988925934),\n",
              " ('tweek', 0.1987067312002182),\n",
              " ('dad', 0.19795963168144226),\n",
              " ('sissi', 0.19290632009506226)]"
            ]
          },
          "metadata": {
            "tags": []
          },
          "execution_count": 86
        }
      ]
    },
    {
      "metadata": {
        "id": "XXq84QlmLEqr",
        "colab_type": "text"
      },
      "cell_type": "markdown",
      "source": [
        "If we embed entire lines using doc2vec, we can easily find similar lines."
      ]
    },
    {
      "metadata": {
        "id": "Ht-PCjx9noxV",
        "colab_type": "code",
        "colab": {}
      },
      "cell_type": "code",
      "source": [
        "# Doc2Vec\n",
        "from gensim.models import Doc2Vec\n",
        "from gensim.models.doc2vec import TaggedDocument\n",
        "class tagged_doc_generator(object):\n",
        "  def __init__(self,data = southpark_data_all[\"Line_cleaned\"]):\n",
        "    self.data = data\n",
        "  \n",
        "  def __iter__(self):\n",
        "    for index,doc in enumerate(self.data):\n",
        "      yield TaggedDocument(words = doc,tags = [index])\n",
        "\n",
        "class doc2vec_class(object):\n",
        "  def __init__(self,vector_size = 100,epochs = 1000,doc_generator = tagged_doc_generator()):\n",
        "    self.vector_size = vector_size\n",
        "    self.epochs = epochs\n",
        "    self.doc_generator = doc_generator\n",
        "    \n",
        "    self.model = Doc2Vec(self.doc_generator,self.vector_size,self.epochs)\n",
        "    \n",
        "  def get_most_similar_docs(self,words):\n",
        "    new_vector = self.model.infer_vector(words)\n",
        "    similar_documents = self.model.docvecs.most_similar([new_vector])\n",
        "    for tup in similar_documents:\n",
        "      print(\"Similarity: {}\".format(tup[1]))\n",
        "      print(southpark_data_all.iloc[tup[0],southpark_data_all.columns.get_loc(\"Line\")])\n",
        "    \n",
        "model_d2v = doc2vec_class()"
      ],
      "execution_count": 0,
      "outputs": []
    },
    {
      "metadata": {
        "id": "DMygeKZ8bLLG",
        "colab_type": "code",
        "colab": {
          "base_uri": "https://localhost:8080/",
          "height": 577
        },
        "outputId": "5ce550a9-d0aa-4d28-a15e-422c97c5bf4c"
      },
      "cell_type": "code",
      "source": [
        "words = [\"screw\",\"gui\"]\n",
        "model_d2v.get_most_similar_docs(words)"
      ],
      "execution_count": 97,
      "outputs": [
        {
          "output_type": "stream",
          "text": [
            "Similarity: 0.3997606039047241\n",
            "That's it! We gotta learn that song backwards.\n",
            "\n",
            "Similarity: 0.37514644861221313\n",
            "I wanted to make sure, too.\n",
            "\n",
            "Similarity: 0.37188810110092163\n",
            "You're just jealous! Why don't you go back to Endor you stupid wookie?!\n",
            "\n",
            "Similarity: 0.36199289560317993\n",
            "Well, nobody can say for sure; uh, no motive has yet been established.\n",
            "\n",
            "Similarity: 0.3556004762649536\n",
            "At long last I have foundA true reason to beNow I feel I can start anew--  Woo, whoa! Ow! Hey!  Uh oh hel-m. Hey!\n",
            "\n",
            "Similarity: 0.3434444069862366\n",
            "Kick the baby! \n",
            "\n",
            "Similarity: 0.33249035477638245\n",
            "It's great to have you back Chef!\n",
            "\n",
            "Similarity: 0.3310459554195404\n",
            "Nu-how, Skeeter. She ain't hurtin' nobody.\n",
            "\n",
            "Similarity: 0.3212505578994751\n",
            "Oh, you didn't see it? Oh. Tweek's family was on the news saying what a wuss you are, Craig.\n",
            "\n",
            "Similarity: 0.3147032856941223\n",
            "Oohma poota!\n",
            "\n"
          ],
          "name": "stdout"
        }
      ]
    },
    {
      "metadata": {
        "id": "2z4NyDWBONKl",
        "colab_type": "text"
      },
      "cell_type": "markdown",
      "source": [
        "Technique to significantly improve word embedding performance\n",
        "\n",
        "[paper](https://openreview.net/pdf?id=SyK00v5xx)"
      ]
    },
    {
      "metadata": {
        "id": "5LqU5juSOULh",
        "colab_type": "code",
        "colab": {}
      },
      "cell_type": "code",
      "source": [
        "# A simple but tough to beat baseline for sentence embeddings"
      ],
      "execution_count": 0,
      "outputs": []
    },
    {
      "metadata": {
        "id": "ZKMdnFSZOlx_",
        "colab_type": "text"
      },
      "cell_type": "markdown",
      "source": [
        "Poincare embeddings\n",
        "\n",
        "[arxiv](https://arxiv.org/pdf/1705.08039.pdf)"
      ]
    },
    {
      "metadata": {
        "id": "EStm341_Okzx",
        "colab_type": "code",
        "colab": {}
      },
      "cell_type": "code",
      "source": [
        ""
      ],
      "execution_count": 0,
      "outputs": []
    },
    {
      "metadata": {
        "id": "oPGfDmEdNRu1",
        "colab_type": "text"
      },
      "cell_type": "markdown",
      "source": [
        "Dense Cohort of Terms, a technique from a 2013 paper that improves upon BoW representations.\n",
        "\n",
        "[arxiv](https://arxiv.org/pdf/1301.6770.pdf)"
      ]
    },
    {
      "metadata": {
        "id": "EsfTwJCuM51L",
        "colab_type": "code",
        "colab": {}
      },
      "cell_type": "code",
      "source": [
        "# Dense cohort of terms"
      ],
      "execution_count": 0,
      "outputs": []
    },
    {
      "metadata": {
        "id": "BvhgX2wshShd",
        "colab_type": "text"
      },
      "cell_type": "markdown",
      "source": [
        "Embeds words into a low dimensional space using Singular Value Decomposition"
      ]
    },
    {
      "metadata": {
        "id": "r1qEIzYsiKiN",
        "colab_type": "code",
        "colab": {}
      },
      "cell_type": "code",
      "source": [
        "# Latent Semantic Indexing/Analysis (LSI/LSA)\n",
        "from gensim.models import LsiModel\n",
        "model_lsi = LsiModel([dictionary.doc2bow(doc) for doc in southpark_data_all[\"Line_cleaned\"]],num_topics = 300,id2word = dictionary)"
      ],
      "execution_count": 0,
      "outputs": []
    },
    {
      "metadata": {
        "id": "IdhrHlMyUdKs",
        "colab_type": "text"
      },
      "cell_type": "markdown",
      "source": [
        "## Topic Modeling"
      ]
    },
    {
      "metadata": {
        "id": "n9xndhAgUn_3",
        "colab_type": "text"
      },
      "cell_type": "markdown",
      "source": [
        "[This](https://blog.insightdatascience.com/topic-modeling-and-sentiment-analysis-to-pinpoint-the-perfect-doctor-6a8fdd4a3904) post might be useful\n",
        "\n",
        "[Paper](http://citeseerx.ist.psu.edu/viewdoc/download?doi=10.1.1.163.5917&rep=rep1&type=pdf) on joint topic-sentiment modeling"
      ]
    },
    {
      "metadata": {
        "id": "rWzu4ozojXQA",
        "colab_type": "code",
        "colab": {}
      },
      "cell_type": "code",
      "source": [
        "# Latent Dirichlet Allocation (LDA)"
      ],
      "execution_count": 0,
      "outputs": []
    },
    {
      "metadata": {
        "id": "cqPPV3HqOWpN",
        "colab_type": "text"
      },
      "cell_type": "markdown",
      "source": [
        "## Predicting Character Lines"
      ]
    },
    {
      "metadata": {
        "id": "iPL7cDRkOdmw",
        "colab_type": "text"
      },
      "cell_type": "markdown",
      "source": [
        "We've up with with different ways to represent lines in Southpark, let's see if we can determine the authorship of any given line."
      ]
    },
    {
      "metadata": {
        "id": "_HYPDNywOZw9",
        "colab_type": "code",
        "colab": {}
      },
      "cell_type": "code",
      "source": [
        ""
      ],
      "execution_count": 0,
      "outputs": []
    }
  ]
}