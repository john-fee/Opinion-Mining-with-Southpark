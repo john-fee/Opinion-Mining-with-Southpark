{
  "nbformat": 4,
  "nbformat_minor": 0,
  "metadata": {
    "colab": {
      "name": "Opinion Mining.ipynb",
      "version": "0.3.2",
      "provenance": [],
      "collapsed_sections": [],
      "include_colab_link": true
    },
    "kernelspec": {
      "name": "python3",
      "display_name": "Python 3"
    }
  },
  "cells": [
    {
      "cell_type": "markdown",
      "metadata": {
        "id": "view-in-github",
        "colab_type": "text"
      },
      "source": [
        "<a href=\"https://colab.research.google.com/github/john-fee/Opinion-Mining-with-Southpark/blob/master/Opinion_Mining.ipynb\" target=\"_parent\"><img src=\"https://colab.research.google.com/assets/colab-badge.svg\" alt=\"Open In Colab\"/></a>"
      ]
    },
    {
      "metadata": {
        "id": "9yVmjdgsmA2D",
        "colab_type": "text"
      },
      "cell_type": "markdown",
      "source": [
        "# Opinion Mining with Southpark\n",
        "\n",
        "## Motivation\n",
        "\n",
        "The internet is a hive of social network activity - people on various social media platforms constantly message, share, and post to communicate with each other.  Given the sheer quantity of these communications, it's nigh impossible to gain an understanding of what they are collectively doing.  By using Natural Language Processing, a field concerned with computational understanding of language, we can transform online communications into mathematically useful forms from which useful information can be extracted.\n",
        "\n",
        "We illustrate these techniques on the collection of scripts for the popular adult animated sitcom South Park.  By using a body of text, or corpus, that is familiar, we can leverage our \"domain knowledge\" to better assess the output of various NLP techniques."
      ]
    },
    {
      "metadata": {
        "id": "UXjLaSsn3vWG",
        "colab_type": "text"
      },
      "cell_type": "markdown",
      "source": [
        "## Data Preparation\n",
        "\n",
        "As a first step, we have to collect the scripts for Southpark.  A kind Github user has already collected the first 19 seasons [here](https://github.com/BobAdamsEE/SouthParkData)."
      ]
    },
    {
      "metadata": {
        "id": "ih9FanCc7c07",
        "colab_type": "code",
        "colab": {}
      },
      "cell_type": "code",
      "source": [
        "# Load libraries\n",
        "import pandas as pd\n",
        "idx = pd.IndexSlice"
      ],
      "execution_count": 0,
      "outputs": []
    },
    {
      "metadata": {
        "id": "PtvNHw8G71dg",
        "colab_type": "code",
        "colab": {}
      },
      "cell_type": "code",
      "source": [
        "# Scrape data\n",
        "def get_southpark_data(seasons_to_scrape = [x for x in range(1,20)]):\n",
        "  ###\n",
        "  ### Gets South Park script by season from github repository.  Only has data up through season 19.\n",
        "  ###\n",
        "  \n",
        "  season_data_list = []\n",
        "  for season_number in seasons_to_scrape:\n",
        "    url = \"https://raw.githubusercontent.com/BobAdamsEE/SouthParkData/master/by-season/Season-{}.csv\".format(season_number)\n",
        "    season_df = pd.read_csv(url)\n",
        "    season_df[\"Episode\"] = str(season_number) + \"-\" + season_df[\"Episode\"].astype(str)\n",
        "    season_data_list.append(season_df)\n",
        "  southpark_data = pd.concat(season_data_list)\n",
        "  southpark_data.reset_index(drop = True,inplace = True)\n",
        "  southpark_data.set_index([\"Season\",\"Episode\",\"Character\"],inplace = True)\n",
        "  return southpark_data    \n",
        "\n",
        "southpark_data_all = get_southpark_data()"
      ],
      "execution_count": 0,
      "outputs": []
    },
    {
      "metadata": {
        "id": "f7LnFGwTuY7S",
        "colab_type": "code",
        "outputId": "ad3dc9ab-4b94-444e-8507-9e8ef3ffe140",
        "colab": {
          "base_uri": "https://localhost:8080/",
          "height": 233
        }
      },
      "cell_type": "code",
      "source": [
        "# View the first and last few entries of South Park data\n",
        "southpark_data_all.head()\n"
      ],
      "execution_count": 0,
      "outputs": [
        {
          "output_type": "execute_result",
          "data": {
            "text/html": [
              "<div>\n",
              "<style scoped>\n",
              "    .dataframe tbody tr th:only-of-type {\n",
              "        vertical-align: middle;\n",
              "    }\n",
              "\n",
              "    .dataframe tbody tr th {\n",
              "        vertical-align: top;\n",
              "    }\n",
              "\n",
              "    .dataframe thead th {\n",
              "        text-align: right;\n",
              "    }\n",
              "</style>\n",
              "<table border=\"1\" class=\"dataframe\">\n",
              "  <thead>\n",
              "    <tr style=\"text-align: right;\">\n",
              "      <th></th>\n",
              "      <th></th>\n",
              "      <th></th>\n",
              "      <th>Line</th>\n",
              "    </tr>\n",
              "    <tr>\n",
              "      <th>Season</th>\n",
              "      <th>Episode</th>\n",
              "      <th>Character</th>\n",
              "      <th></th>\n",
              "    </tr>\n",
              "  </thead>\n",
              "  <tbody>\n",
              "    <tr>\n",
              "      <th rowspan=\"5\" valign=\"top\">1</th>\n",
              "      <th rowspan=\"5\" valign=\"top\">1-1</th>\n",
              "      <th>Boys</th>\n",
              "      <td>School day, school day, teacher's golden ru...\\n</td>\n",
              "    </tr>\n",
              "    <tr>\n",
              "      <th>Kyle</th>\n",
              "      <td>Ah, damn it! My little brother's trying to fol...</td>\n",
              "    </tr>\n",
              "    <tr>\n",
              "      <th>Ike</th>\n",
              "      <td>Zeeponanner.\\n</td>\n",
              "    </tr>\n",
              "    <tr>\n",
              "      <th>Kyle</th>\n",
              "      <td>Ike, you can't come to school with me. \\n</td>\n",
              "    </tr>\n",
              "    <tr>\n",
              "      <th>Cartman</th>\n",
              "      <td>Yeah, go home you little dildo.\\n</td>\n",
              "    </tr>\n",
              "  </tbody>\n",
              "</table>\n",
              "</div>"
            ],
            "text/plain": [
              "                                                                       Line\n",
              "Season Episode Character                                                   \n",
              "1      1-1     Boys        School day, school day, teacher's golden ru...\\n\n",
              "               Kyle       Ah, damn it! My little brother's trying to fol...\n",
              "               Ike                                           Zeeponanner.\\n\n",
              "               Kyle               Ike, you can't come to school with me. \\n\n",
              "               Cartman                    Yeah, go home you little dildo.\\n"
            ]
          },
          "metadata": {
            "tags": []
          },
          "execution_count": 4
        }
      ]
    },
    {
      "metadata": {
        "id": "YrUJZBFMKxL_",
        "colab_type": "code",
        "outputId": "192c27bb-96fa-43ce-8494-4953c6b6bb29",
        "colab": {
          "base_uri": "https://localhost:8080/",
          "height": 233
        }
      },
      "cell_type": "code",
      "source": [
        "southpark_data_all.tail()"
      ],
      "execution_count": 0,
      "outputs": [
        {
          "output_type": "execute_result",
          "data": {
            "text/html": [
              "<div>\n",
              "<style scoped>\n",
              "    .dataframe tbody tr th:only-of-type {\n",
              "        vertical-align: middle;\n",
              "    }\n",
              "\n",
              "    .dataframe tbody tr th {\n",
              "        vertical-align: top;\n",
              "    }\n",
              "\n",
              "    .dataframe thead th {\n",
              "        text-align: right;\n",
              "    }\n",
              "</style>\n",
              "<table border=\"1\" class=\"dataframe\">\n",
              "  <thead>\n",
              "    <tr style=\"text-align: right;\">\n",
              "      <th></th>\n",
              "      <th></th>\n",
              "      <th></th>\n",
              "      <th>Line</th>\n",
              "    </tr>\n",
              "    <tr>\n",
              "      <th>Season</th>\n",
              "      <th>Episode</th>\n",
              "      <th>Character</th>\n",
              "      <th></th>\n",
              "    </tr>\n",
              "  </thead>\n",
              "  <tbody>\n",
              "    <tr>\n",
              "      <th rowspan=\"5\" valign=\"top\">19</th>\n",
              "      <th rowspan=\"5\" valign=\"top\">19-10</th>\n",
              "      <th>Randy</th>\n",
              "      <td>Why did it have to be like this?! Why couldn't...</td>\n",
              "    </tr>\n",
              "    <tr>\n",
              "      <th>Sharon</th>\n",
              "      <td>Randy, you're yelling at a Whole Foods.\\n</td>\n",
              "    </tr>\n",
              "    <tr>\n",
              "      <th>Randy</th>\n",
              "      <td>Go on, get outta here! We know! Others will kn...</td>\n",
              "    </tr>\n",
              "    <tr>\n",
              "      <th>PC Principal</th>\n",
              "      <td>Alright everyone, listen up. I don't know abou...</td>\n",
              "    </tr>\n",
              "    <tr>\n",
              "      <th>Stan</th>\n",
              "      <td>This is going to be really hard.\\n</td>\n",
              "    </tr>\n",
              "  </tbody>\n",
              "</table>\n",
              "</div>"
            ],
            "text/plain": [
              "                                                                          Line\n",
              "Season Episode Character                                                      \n",
              "19     19-10   Randy         Why did it have to be like this?! Why couldn't...\n",
              "               Sharon                Randy, you're yelling at a Whole Foods.\\n\n",
              "               Randy         Go on, get outta here! We know! Others will kn...\n",
              "               PC Principal  Alright everyone, listen up. I don't know abou...\n",
              "               Stan                         This is going to be really hard.\\n"
            ]
          },
          "metadata": {
            "tags": []
          },
          "execution_count": 5
        }
      ]
    },
    {
      "metadata": {
        "id": "oJ7CQPSmuSBC",
        "colab_type": "text"
      },
      "cell_type": "markdown",
      "source": [
        "Note that there are some artifacts in the data source (the \"\\n\"s).  We're going to want to remove these and perform a few other manipulations to make the text more tractable.  To do that, we're going to have to introduce some concepts.\n",
        "\n",
        "### Tokens\n",
        "\n",
        "Tokens are sequences of a characters which are deemed to be a single semantic unit.  These can be single words, but depending on the NLP task could be multiple words (word phrases) or transformed words.  See [here](https://nlp.stanford.edu/IR-book/html/htmledition/tokenization-1.html) for a further discussion of tokens.\n",
        "\n",
        "### Lemmas and Stemming\n",
        "\n",
        "Often when working with text, we want to map related words to a single representation (e.g. cats and cat to cat).  A lemma is the base form of a token derived from morphological (structural) analysis, while a stemmed word is a base form of a token derived through heuristic \"shortening\" rules. See [here](https://nlp.stanford.edu/IR-book/html/htmledition/stemming-and-lemmatization-1.html) for examples.\n",
        "\n",
        "### Collocations\n",
        "\n",
        "Collocations are combinations of words that occur more frequently than one would expect by chance ([wikipedia](https://en.wikipedia.org/wiki/Collocation)).  This can be used to identify word phrases (e.g. New York), but the idea of collocation underlies much of NLP."
      ]
    },
    {
      "metadata": {
        "id": "VFMaEx4Mtm32",
        "colab_type": "code",
        "outputId": "79ba5e80-c4d7-4594-b2c5-8ba5524835d7",
        "colab": {
          "base_uri": "https://localhost:8080/",
          "height": 803
        }
      },
      "cell_type": "code",
      "source": [
        "# Install libraries\n",
        "!pip install gensim\n",
        "\n",
        "# Load libraries\n",
        "from gensim.parsing.preprocessing import preprocess_string\n",
        "from gensim.models.phrases import Phrases, Phraser"
      ],
      "execution_count": 0,
      "outputs": [
        {
          "output_type": "stream",
          "text": [
            "Collecting gensim\n",
            "\u001b[?25l  Downloading https://files.pythonhosted.org/packages/86/f3/37504f07651330ddfdefa631ca5246974a60d0908216539efda842fd080f/gensim-3.5.0-cp36-cp36m-manylinux1_x86_64.whl (23.5MB)\n",
            "\u001b[K    100% |████████████████████████████████| 23.5MB 1.3MB/s \n",
            "\u001b[?25hRequirement already satisfied: scipy>=0.18.1 in /usr/local/lib/python3.6/dist-packages (from gensim) (0.19.1)\n",
            "Collecting smart-open>=1.2.1 (from gensim)\n",
            "  Downloading https://files.pythonhosted.org/packages/cf/3d/5f3a9a296d0ba8e00e263a8dee76762076b9eb5ddc254ccaa834651c8d65/smart_open-1.6.0.tar.gz\n",
            "Requirement already satisfied: numpy>=1.11.3 in /usr/local/lib/python3.6/dist-packages (from gensim) (1.14.5)\n",
            "Requirement already satisfied: six>=1.5.0 in /usr/local/lib/python3.6/dist-packages (from gensim) (1.11.0)\n",
            "Collecting boto>=2.32 (from smart-open>=1.2.1->gensim)\n",
            "\u001b[?25l  Downloading https://files.pythonhosted.org/packages/23/10/c0b78c27298029e4454a472a1919bde20cb182dab1662cec7f2ca1dcc523/boto-2.49.0-py2.py3-none-any.whl (1.4MB)\n",
            "\u001b[K    100% |████████████████████████████████| 1.4MB 12.8MB/s \n",
            "\u001b[?25hCollecting bz2file (from smart-open>=1.2.1->gensim)\n",
            "  Downloading https://files.pythonhosted.org/packages/61/39/122222b5e85cd41c391b68a99ee296584b2a2d1d233e7ee32b4532384f2d/bz2file-0.98.tar.gz\n",
            "Requirement already satisfied: requests in /usr/local/lib/python3.6/dist-packages (from smart-open>=1.2.1->gensim) (2.18.4)\n",
            "Collecting boto3 (from smart-open>=1.2.1->gensim)\n",
            "\u001b[?25l  Downloading https://files.pythonhosted.org/packages/c9/cd/d48602dc99ecb52876cf741477f15c874b631e5776723f27092693a5b535/boto3-1.7.80-py2.py3-none-any.whl (128kB)\n",
            "\u001b[K    100% |████████████████████████████████| 133kB 23.8MB/s \n",
            "\u001b[?25hRequirement already satisfied: certifi>=2017.4.17 in /usr/local/lib/python3.6/dist-packages (from requests->smart-open>=1.2.1->gensim) (2018.8.13)\n",
            "Requirement already satisfied: chardet<3.1.0,>=3.0.2 in /usr/local/lib/python3.6/dist-packages (from requests->smart-open>=1.2.1->gensim) (3.0.4)\n",
            "Requirement already satisfied: urllib3<1.23,>=1.21.1 in /usr/local/lib/python3.6/dist-packages (from requests->smart-open>=1.2.1->gensim) (1.22)\n",
            "Requirement already satisfied: idna<2.7,>=2.5 in /usr/local/lib/python3.6/dist-packages (from requests->smart-open>=1.2.1->gensim) (2.6)\n",
            "Collecting s3transfer<0.2.0,>=0.1.10 (from boto3->smart-open>=1.2.1->gensim)\n",
            "\u001b[?25l  Downloading https://files.pythonhosted.org/packages/d7/14/2a0004d487464d120c9fb85313a75cd3d71a7506955be458eebfe19a6b1d/s3transfer-0.1.13-py2.py3-none-any.whl (59kB)\n",
            "\u001b[K    100% |████████████████████████████████| 61kB 17.2MB/s \n",
            "\u001b[?25hCollecting jmespath<1.0.0,>=0.7.1 (from boto3->smart-open>=1.2.1->gensim)\n",
            "  Downloading https://files.pythonhosted.org/packages/b7/31/05c8d001f7f87f0f07289a5fc0fc3832e9a57f2dbd4d3b0fee70e0d51365/jmespath-0.9.3-py2.py3-none-any.whl\n",
            "Collecting botocore<1.11.0,>=1.10.80 (from boto3->smart-open>=1.2.1->gensim)\n",
            "\u001b[?25l  Downloading https://files.pythonhosted.org/packages/5e/cf/b97f44993766af17bf64aeddadf66f63b6ebf3d700565cc7ee7b13cd0067/botocore-1.10.80-py2.py3-none-any.whl (4.5MB)\n",
            "\u001b[K    100% |████████████████████████████████| 4.5MB 5.5MB/s \n",
            "\u001b[?25hCollecting docutils>=0.10 (from botocore<1.11.0,>=1.10.80->boto3->smart-open>=1.2.1->gensim)\n",
            "\u001b[?25l  Downloading https://files.pythonhosted.org/packages/36/fa/08e9e6e0e3cbd1d362c3bbee8d01d0aedb2155c4ac112b19ef3cae8eed8d/docutils-0.14-py3-none-any.whl (543kB)\n",
            "\u001b[K    100% |████████████████████████████████| 552kB 21.3MB/s \n",
            "\u001b[?25hRequirement already satisfied: python-dateutil<3.0.0,>=2.1; python_version >= \"2.7\" in /usr/local/lib/python3.6/dist-packages (from botocore<1.11.0,>=1.10.80->boto3->smart-open>=1.2.1->gensim) (2.5.3)\n",
            "Building wheels for collected packages: smart-open, bz2file\n",
            "  Running setup.py bdist_wheel for smart-open ... \u001b[?25l-\b \b\\\b \bdone\n",
            "\u001b[?25h  Stored in directory: /content/.cache/pip/wheels/73/f1/9b/ccf93d4ba073b6f79b1ed9df68ab5ce048d8136d0efcf90b30\n",
            "  Running setup.py bdist_wheel for bz2file ... \u001b[?25l-\b \bdone\n",
            "\u001b[?25h  Stored in directory: /content/.cache/pip/wheels/81/75/d6/e1317bf09bf1af5a30befc2a007869fa6e1f516b8f7c591cb9\n",
            "Successfully built smart-open bz2file\n",
            "Installing collected packages: boto, bz2file, docutils, jmespath, botocore, s3transfer, boto3, smart-open, gensim\n",
            "Successfully installed boto-2.49.0 boto3-1.7.80 botocore-1.10.80 bz2file-0.98 docutils-0.14 gensim-3.5.0 jmespath-0.9.3 s3transfer-0.1.13 smart-open-1.6.0\n"
          ],
          "name": "stdout"
        }
      ]
    },
    {
      "metadata": {
        "id": "AZZ02eDRt23C",
        "colab_type": "code",
        "colab": {}
      },
      "cell_type": "code",
      "source": [
        "# Clean text\n",
        "class corpus_generator(object):\n",
        "  def __init__(self,data):\n",
        "    self.data = data\n",
        "    \n",
        "    # Train phraser to identify word phrases\n",
        "    phrases = Phrases((doc for doc in data))\n",
        "    bigram = Phraser(phrases)\n",
        "    phrases_bigram = Phrases(bigram[southpark_data_all[\"Line\"]])\n",
        "    trigram = Phraser(phrases_bigram)\n",
        "    self.phrase_detector = trigram\n",
        "    \n",
        "  def __iter__(self):\n",
        "    for doc in self.data:\n",
        "      doc_cleaned = self._clean_text(doc)\n",
        "      doc_with_phrases = self.phrase_detector[doc_cleaned]\n",
        "      yield doc_with_phrases\n",
        "      \n",
        "  def _clean_text(self,text):\n",
        "    text.replace(\"\\n\",\" \") # Remove \"\\n\" that occurs at the end of every string\n",
        "    cleaned_text = preprocess_string(text)\n",
        "    # Need phrase detection\n",
        "    return cleaned_text\n",
        "    "
      ],
      "execution_count": 0,
      "outputs": []
    },
    {
      "metadata": {
        "id": "S7qyLuwmFx7a",
        "colab_type": "text"
      },
      "cell_type": "markdown",
      "source": [
        "We've created a Python class which takes text, cleans it (makes everything lowercases, removes extraneous punctuation, etc), stems the tokens, and trains a phrase detector to join together any phrases that exist.  The cleaning process also removes \"stop words\", frequently occurring word which are deemed uniformative."
      ]
    },
    {
      "metadata": {
        "id": "tkspdqWJ2Rrf",
        "colab_type": "code",
        "colab": {}
      },
      "cell_type": "code",
      "source": [
        "# Augment existing data with cleaned lines\n",
        "\n",
        "southpark_data_all[\"Line_cleaned\"] = [doc for doc in corpus_generator(southpark_data_all[\"Line\"])]"
      ],
      "execution_count": 0,
      "outputs": []
    },
    {
      "metadata": {
        "id": "g0E0dTf2KYJL",
        "colab_type": "code",
        "outputId": "1d2cfc98-efb8-40ea-f070-89cbc51b4cd4",
        "colab": {
          "base_uri": "https://localhost:8080/",
          "height": 233
        }
      },
      "cell_type": "code",
      "source": [
        "southpark_data_all.head()"
      ],
      "execution_count": 0,
      "outputs": [
        {
          "output_type": "execute_result",
          "data": {
            "text/html": [
              "<div>\n",
              "<style scoped>\n",
              "    .dataframe tbody tr th:only-of-type {\n",
              "        vertical-align: middle;\n",
              "    }\n",
              "\n",
              "    .dataframe tbody tr th {\n",
              "        vertical-align: top;\n",
              "    }\n",
              "\n",
              "    .dataframe thead th {\n",
              "        text-align: right;\n",
              "    }\n",
              "</style>\n",
              "<table border=\"1\" class=\"dataframe\">\n",
              "  <thead>\n",
              "    <tr style=\"text-align: right;\">\n",
              "      <th></th>\n",
              "      <th></th>\n",
              "      <th></th>\n",
              "      <th>Line</th>\n",
              "      <th>Line_cleaned</th>\n",
              "    </tr>\n",
              "    <tr>\n",
              "      <th>Season</th>\n",
              "      <th>Episode</th>\n",
              "      <th>Character</th>\n",
              "      <th></th>\n",
              "      <th></th>\n",
              "    </tr>\n",
              "  </thead>\n",
              "  <tbody>\n",
              "    <tr>\n",
              "      <th rowspan=\"5\" valign=\"top\">1</th>\n",
              "      <th rowspan=\"5\" valign=\"top\">1-1</th>\n",
              "      <th>Boys</th>\n",
              "      <td>School day, school day, teacher's golden ru...\\n</td>\n",
              "      <td>[school, dai, school, dai, teacher, golden]</td>\n",
              "    </tr>\n",
              "    <tr>\n",
              "      <th>Kyle</th>\n",
              "      <td>Ah, damn it! My little brother's trying to fol...</td>\n",
              "      <td>[damn, littl, brother, try, follow, school]</td>\n",
              "    </tr>\n",
              "    <tr>\n",
              "      <th>Ike</th>\n",
              "      <td>Zeeponanner.\\n</td>\n",
              "      <td>[zeeponann]</td>\n",
              "    </tr>\n",
              "    <tr>\n",
              "      <th>Kyle</th>\n",
              "      <td>Ike, you can't come to school with me. \\n</td>\n",
              "      <td>[ik, come, school]</td>\n",
              "    </tr>\n",
              "    <tr>\n",
              "      <th>Cartman</th>\n",
              "      <td>Yeah, go home you little dildo.\\n</td>\n",
              "      <td>[yeah, home, littl, dildo]</td>\n",
              "    </tr>\n",
              "  </tbody>\n",
              "</table>\n",
              "</div>"
            ],
            "text/plain": [
              "                                                                       Line  \\\n",
              "Season Episode Character                                                      \n",
              "1      1-1     Boys        School day, school day, teacher's golden ru...\\n   \n",
              "               Kyle       Ah, damn it! My little brother's trying to fol...   \n",
              "               Ike                                           Zeeponanner.\\n   \n",
              "               Kyle               Ike, you can't come to school with me. \\n   \n",
              "               Cartman                    Yeah, go home you little dildo.\\n   \n",
              "\n",
              "                                                         Line_cleaned  \n",
              "Season Episode Character                                               \n",
              "1      1-1     Boys       [school, dai, school, dai, teacher, golden]  \n",
              "               Kyle       [damn, littl, brother, try, follow, school]  \n",
              "               Ike                                        [zeeponann]  \n",
              "               Kyle                                [ik, come, school]  \n",
              "               Cartman                     [yeah, home, littl, dildo]  "
            ]
          },
          "metadata": {
            "tags": []
          },
          "execution_count": 9
        }
      ]
    },
    {
      "metadata": {
        "id": "6piy-kVvK4wh",
        "colab_type": "code",
        "outputId": "75e38277-29d7-42ea-88f2-1b07ff2982ed",
        "colab": {
          "base_uri": "https://localhost:8080/",
          "height": 233
        }
      },
      "cell_type": "code",
      "source": [
        "southpark_data_all.tail()"
      ],
      "execution_count": 0,
      "outputs": [
        {
          "output_type": "execute_result",
          "data": {
            "text/html": [
              "<div>\n",
              "<style scoped>\n",
              "    .dataframe tbody tr th:only-of-type {\n",
              "        vertical-align: middle;\n",
              "    }\n",
              "\n",
              "    .dataframe tbody tr th {\n",
              "        vertical-align: top;\n",
              "    }\n",
              "\n",
              "    .dataframe thead th {\n",
              "        text-align: right;\n",
              "    }\n",
              "</style>\n",
              "<table border=\"1\" class=\"dataframe\">\n",
              "  <thead>\n",
              "    <tr style=\"text-align: right;\">\n",
              "      <th></th>\n",
              "      <th></th>\n",
              "      <th></th>\n",
              "      <th>Line</th>\n",
              "      <th>Line_cleaned</th>\n",
              "    </tr>\n",
              "    <tr>\n",
              "      <th>Season</th>\n",
              "      <th>Episode</th>\n",
              "      <th>Character</th>\n",
              "      <th></th>\n",
              "      <th></th>\n",
              "    </tr>\n",
              "  </thead>\n",
              "  <tbody>\n",
              "    <tr>\n",
              "      <th rowspan=\"5\" valign=\"top\">19</th>\n",
              "      <th rowspan=\"5\" valign=\"top\">19-10</th>\n",
              "      <th>Randy</th>\n",
              "      <td>Why did it have to be like this?! Why couldn't...</td>\n",
              "      <td>[like, couldn, try, live, planet, mayb, perfec...</td>\n",
              "    </tr>\n",
              "    <tr>\n",
              "      <th>Sharon</th>\n",
              "      <td>Randy, you're yelling at a Whole Foods.\\n</td>\n",
              "      <td>[randi, yell, food]</td>\n",
              "    </tr>\n",
              "    <tr>\n",
              "      <th>Randy</th>\n",
              "      <td>Go on, get outta here! We know! Others will kn...</td>\n",
              "      <td>[outta, know, know, isn, go, easi, anymor]</td>\n",
              "    </tr>\n",
              "    <tr>\n",
              "      <th>PC Principal</th>\n",
              "      <td>Alright everyone, listen up. I don't know abou...</td>\n",
              "      <td>[alright, listen, know, sick, tire, hate, spee...</td>\n",
              "    </tr>\n",
              "    <tr>\n",
              "      <th>Stan</th>\n",
              "      <td>This is going to be really hard.\\n</td>\n",
              "      <td>[go, hard]</td>\n",
              "    </tr>\n",
              "  </tbody>\n",
              "</table>\n",
              "</div>"
            ],
            "text/plain": [
              "                                                                          Line  \\\n",
              "Season Episode Character                                                         \n",
              "19     19-10   Randy         Why did it have to be like this?! Why couldn't...   \n",
              "               Sharon                Randy, you're yelling at a Whole Foods.\\n   \n",
              "               Randy         Go on, get outta here! We know! Others will kn...   \n",
              "               PC Principal  Alright everyone, listen up. I don't know abou...   \n",
              "               Stan                         This is going to be really hard.\\n   \n",
              "\n",
              "                                                                  Line_cleaned  \n",
              "Season Episode Character                                                        \n",
              "19     19-10   Randy         [like, couldn, try, live, planet, mayb, perfec...  \n",
              "               Sharon                                      [randi, yell, food]  \n",
              "               Randy                [outta, know, know, isn, go, easi, anymor]  \n",
              "               PC Principal  [alright, listen, know, sick, tire, hate, spee...  \n",
              "               Stan                                                 [go, hard]  "
            ]
          },
          "metadata": {
            "tags": []
          },
          "execution_count": 10
        }
      ]
    },
    {
      "metadata": {
        "id": "FTurKp5sKRNS",
        "colab_type": "text"
      },
      "cell_type": "markdown",
      "source": [
        "Note that our cleaned lines are now just lists of stemmed tokens (gensim uses a simple stemmer).  Note some of the problems with this - \"outta\" isn't recognized as \"out of\"."
      ]
    },
    {
      "metadata": {
        "id": "846BdpQyHyW9",
        "colab_type": "code",
        "colab": {}
      },
      "cell_type": "code",
      "source": [
        "def document_merging(data,merge_by):\n",
        "  results_dict = {}\n",
        "  merge_by_index = data.index.names.index(merge_by)\n",
        "  merge_by_levels = data.index.levels[merge_by_index]\n",
        "  for level in merge_by_levels:\n",
        "    if merge_by == \"Season\":\n",
        "      data_subset = data.loc[idx[level,:,:],:]\n",
        "    if merge_by == \"Episode\":\n",
        "      data_subset = data.loc[idx[:,level,:],:]\n",
        "    if merge_by == \"Character\":\n",
        "      data_subset = data.loc[idx[:,:,level],:]\n",
        "    new_doc = []\n",
        "    for doc in data_subset[\"Line_cleaned\"]:\n",
        "      for token in doc:\n",
        "        new_doc.append(token)\n",
        "    results_dict[\"{}_{}\".format(merge_by,level)] = new_doc\n",
        "    \n",
        "  return results_dict \n",
        "\n",
        "southpark_data_by_season = document_merging(southpark_data_all,\"Season\")\n",
        "southpark_data_by_episode = document_merging(southpark_data_all,\"Episode\")\n",
        "southpark_data_by_character = document_merging(southpark_data_all,\"Character\")"
      ],
      "execution_count": 0,
      "outputs": []
    },
    {
      "metadata": {
        "id": "T8_0j_QgQXSy",
        "colab_type": "text"
      },
      "cell_type": "markdown",
      "source": [
        "We also want to be able to group together our cleaned text by character, season, or episode."
      ]
    },
    {
      "metadata": {
        "id": "sucMXIM4HN8V",
        "colab_type": "text"
      },
      "cell_type": "markdown",
      "source": [
        "## Word Importance\n"
      ]
    },
    {
      "metadata": {
        "id": "nXf6uYYlCv7u",
        "colab_type": "text"
      },
      "cell_type": "markdown",
      "source": [
        "A common way to extract meaning from documents is to extract characteristic/important words.  Let's examine the characteristic words for the character \"Cartman\".  The simplest approach is to rank them by how frequently they are spoken."
      ]
    },
    {
      "metadata": {
        "id": "hdSmRpIXHyP0",
        "colab_type": "code",
        "outputId": "c035bada-034e-4719-a026-672d58b84a0e",
        "colab": {
          "base_uri": "https://localhost:8080/",
          "height": 241
        }
      },
      "cell_type": "code",
      "source": [
        "# Sparse BoW\n",
        "# Word frequencies\n",
        "from gensim.corpora import Dictionary\n",
        "\n",
        "def get_most_common_words(dictionary,corpus_subset,verbose = False):\n",
        "  bag_of_words = dictionary.doc2bow(corpus_subset)\n",
        "  named_words = [(dictionary[word_id],frequency) for (word_id,frequency) in bag_of_words]\n",
        "  sorted_words = sorted(named_words,key = lambda x: x[1],reverse = True)\n",
        "  if verbose:\n",
        "    print(\"Number of unique words in the corpus subset: {}\".format(len(dictionary)))\n",
        "    print(\"Most common words and their frequency\")\n",
        "    for i in range(10):\n",
        "      print(sorted_words[i])\n",
        "  return sorted_words\n",
        "\n",
        "# Treat the body of text belonging to each character as a separate document, then count the most frequent words for the Cartman document\n",
        "dictionary = Dictionary(southpark_data_by_character.values())\n",
        "most_important_words_frequency_Cartman = get_most_common_words(dictionary,southpark_data_by_character[\"Character_Cartman\"],verbose = True)"
      ],
      "execution_count": 0,
      "outputs": [
        {
          "output_type": "stream",
          "text": [
            "Number of unique words in the corpus subset: 18585\n",
            "Most common words and their frequency\n",
            "('gui', 996)\n",
            "('kyle', 922)\n",
            "('right', 651)\n",
            "('know', 611)\n",
            "('gonna', 571)\n",
            "('like', 563)\n",
            "('yeah', 547)\n",
            "('come', 536)\n",
            "('butter', 508)\n",
            "('dude', 451)\n"
          ],
          "name": "stdout"
        }
      ]
    },
    {
      "metadata": {
        "id": "b_WCzzH7cRS2",
        "colab_type": "code",
        "colab": {}
      },
      "cell_type": "code",
      "source": [
        "# Did any words actually end up being linked by phrase detection?\n",
        "for word_id in dictionary:\n",
        "  word = dictionary[word_id]\n",
        "  if \"_\" in word:\n",
        "    print(word)"
      ],
      "execution_count": 0,
      "outputs": []
    },
    {
      "metadata": {
        "id": "KqqIGMpQnHCA",
        "colab_type": "text"
      },
      "cell_type": "markdown",
      "source": [
        "Now,  let's try using term frequency, inverse document frequency (tf-idf) to extract keywords for Cartman.  This is a heuristic that reweights the importance of each word according to the formula\n",
        "\n",
        "$$\n",
        "weight = \\text{term frequency} \\times log_{2}(\\frac{N}{\\text{document frequency}})\n",
        "$$\n",
        "\n",
        "where *term frequency* is the number of times a word appears in a document (number of times Cartman speaks a word), *N* is the number of documents (characters), and *document frequency* is the number of documents (characters) that the word appears in.\n",
        "\n",
        "\n",
        "This will de-emphasize words which are spoken by multiple characters.  To obtain the tf-idf weighting for words, we treat the entire body of lines spoken by each character as a single document.\n",
        "\n",
        "Further reading on tf-idf and its variations can be found [here](http://mlwiki.org/index.php/TF-IDF#Good_Weighting_System)"
      ]
    },
    {
      "metadata": {
        "id": "mwf6IeIJ--kB",
        "colab_type": "code",
        "outputId": "5cc1169f-c30a-4de6-e1a9-c4250bed6b42",
        "colab": {
          "base_uri": "https://localhost:8080/",
          "height": 223
        }
      },
      "cell_type": "code",
      "source": [
        "# TF-IDF\n",
        "# A reweighting of word frequency proportional to term frequency and inversely proportional to document frequency\n",
        "from gensim.models import TfidfModel\n",
        "\n",
        "def get_important_words_tfidf(dictionary,corpus,corpus_subset,verbose = False):\n",
        "  # Corpus is needed to train tfidf model\n",
        "  # Corpus subset is a single document/character's lines\n",
        "  corpus_bag_of_words = (dictionary.doc2bow(doc) for doc in corpus) # Transforms corpus to bag of words representation\n",
        "  corpus_subset_bag_of_words = dictionary.doc2bow(corpus_subset)\n",
        "  model = TfidfModel(corpus_bag_of_words)  # Creates tf-idf weights\n",
        "  corpus_subset_tfidf = model[corpus_subset_bag_of_words]\n",
        "  named_words = [(dictionary[word_id],weight) for (word_id,weight) in corpus_subset_tfidf] # Convert from word ids to word names\n",
        "  sorted_words = sorted(named_words,key = lambda x: x[1],reverse = True)\n",
        "  if verbose:\n",
        "    print(\"Most important words by tf-idf weighting\")\n",
        "    for i in range(10):\n",
        "      print(sorted_words[i])\n",
        "  return sorted_words\n",
        "  \n",
        "most_important_words_tfidf_Cartman = get_important_words_tfidf(dictionary,southpark_data_by_character.values(),southpark_data_by_character[\"Character_Cartman\"],verbose = True)\n"
      ],
      "execution_count": 0,
      "outputs": [
        {
          "output_type": "stream",
          "text": [
            "Most important words by tf-idf weighting\n",
            "('kyle', 0.390034680302628)\n",
            "('gui', 0.29489397402269485)\n",
            "('butter', 0.22968512678005118)\n",
            "('dude', 0.20451170221263418)\n",
            "('kenni', 0.17730393695152988)\n",
            "('mom', 0.15590453095110032)\n",
            "('gonna', 0.14538652819360492)\n",
            "('know', 0.12901111954463151)\n",
            "('right', 0.12712128220446686)\n",
            "('yeah', 0.1190040156337816)\n"
          ],
          "name": "stdout"
        }
      ]
    },
    {
      "metadata": {
        "id": "Upo7gANAFF0C",
        "colab_type": "code",
        "colab": {}
      },
      "cell_type": "code",
      "source": [
        "import numpy as np\n",
        "class contextual_salience_model(object):\n",
        "  def __init__(self,corpus_vectorized):\n",
        "    # corpus needs to be in matrix form or we need to transform it here\n",
        "    self.corpus_vectorized = corpus_vectorized\n",
        "  \n",
        "  def __iter__(self):\n",
        "    # Go through corpus and apply contextual salience algorithm\n",
        "    # Need to implement\n",
        "    # ALSO NEED TO MAKE SURE DIMENSIONS LINE UP\n",
        "    S_corpus = None\n",
        "    \n",
        "    for doc in self.corpus_vectorized:\n",
        "      S_doc = None\n",
        "      yield self._contextual_salience(doc,S_doc,S_corpus)\n",
        "\n",
        "  def _contextual_salience(self,vector,S_doc,S_corpus):\n",
        "    ###\n",
        "    ### vector is a px1 vector representation of the document\n",
        "    ### S_doc is the covariance of the vector representations of the document (pxp)\n",
        "    ### S_corpus is the covariance of the vector representations of the corpus (pxp)\n",
        "    ###\n",
        "    S_doc_weighted = S_doc\n",
        "    S_corpus_weighted = S_corpus\n",
        "    return np.sqrt(vector.transpose() @ np.multiply(S_doc_weighted,S_corpus_weighted) @ vector)  \n",
        "\n",
        "\n",
        "def get_important_words(vector,doc,corpus):\n",
        "  corpus_bag_of_words = (dictionary.doc2bow(doc) for doc in corpus) # Transforms corpus to bag of words representation\n"
      ],
      "execution_count": 0,
      "outputs": []
    },
    {
      "metadata": {
        "id": "AK-kk8VhPhrn",
        "colab_type": "text"
      },
      "cell_type": "markdown",
      "source": [
        "How do a character's characteristic keywords change from season to season?"
      ]
    },
    {
      "metadata": {
        "id": "utlMI2O6T_wu",
        "colab_type": "code",
        "outputId": "e39c841f-10c9-490b-be79-ca0485b630c0",
        "colab": {
          "base_uri": "https://localhost:8080/",
          "height": 3491
        }
      },
      "cell_type": "code",
      "source": [
        "import seaborn as sns\n",
        "import matplotlib.pyplot as plt\n",
        "import itertools\n",
        "from collections import OrderedDict\n",
        "\n",
        "# Control graph defaults\n",
        "sns.set_style(\"ticks\")\n",
        "\n",
        "def get_word_importance_data(character,data):\n",
        "  # Get seasons to compare from data\n",
        "  season_multindex = data.index.names.index(\"Season\")\n",
        "  seasons_to_compare = data.index.levels[season_multindex]\n",
        "  \n",
        "  # Get vocab to initialize results dataframe\n",
        "  all_season_vocabulary = [word for word in Dictionary(data[\"Line_cleaned\"]).values()]\n",
        "  results_df = pd.DataFrame(columns = [\"Season\",\"Method\"] + all_season_vocabulary)\n",
        "  top_5_common_words = set()\n",
        "  top_5_important_words_tfidf = set()\n",
        "  \n",
        "  for season_number in seasons_to_compare:\n",
        "    # Get dictionary for season\n",
        "    season_subset = data.loc[idx[season_number,:,:],:]\n",
        "    data_by_character = document_merging(season_subset,\"Character\")\n",
        "    dictionary = Dictionary(data_by_character.values())\n",
        "    \n",
        "    # Get most common words\n",
        "    most_common_words = get_most_common_words(dictionary,data_by_character[character])\n",
        "    words_to_add = set([tup[0] for tup in most_common_words[0:5]])\n",
        "    top_5_frequency = top_5_common_words.union(words_to_add)\n",
        "    \n",
        "    temp_df = pd.DataFrame(dict(most_common_words),index = [0])\n",
        "    temp_df[\"Season\"] = season_number\n",
        "    temp_df[\"Method\"] = \"Frequency\"\n",
        "    results_df = results_df.append(temp_df)\n",
        "    \n",
        "    # Get most important words via tf-idf\n",
        "    most_important_words_tfidf = get_important_words_tfidf(dictionary,data_by_character.values(),data_by_character[character])\n",
        "    words_to_add = set([tup[0] for tup in most_important_words_tfidf[0:5]])\n",
        "    top_5_tfidf = top_5_important_words_tfidf.union(words_to_add)\n",
        "    \n",
        "    temp_df = pd.DataFrame(dict(most_important_words_tfidf),index = [0])\n",
        "    temp_df[\"Season\"] = season_number\n",
        "    temp_df[\"Method\"] = \"Tf-Idf\"\n",
        "    results_df = results_df.append(temp_df)\n",
        "    \n",
        "    # More word importance measures go here if we want to expand\n",
        "    \n",
        "    # Set all 0 indices to proper order\n",
        "    results_df.reset_index(drop = True,inplace = True)\n",
        "\n",
        "  return results_df,list(top_5_frequency),list(top_5_tfidf)\n",
        "\n",
        "def make_word_importance_graphs(character,data):\n",
        "  results_df,top_5_frequency,top_5_tfidf = get_word_importance_data(character,data)\n",
        "  graph_df = results_df.loc[:,[\"Season\", \"Method\"] + list(set(top_5_frequency + top_5_tfidf))] # Select columns with only relevant words\n",
        "  \n",
        "  words_to_graph = sorted(list(set(top_5_frequency + top_5_tfidf)))\n",
        "  seasons = list(graph_df[\"Season\"].unique())\n",
        "  fig,axes = plt.subplots(1,2,figsize = (17,5))\n",
        "  \n",
        " \n",
        "  \n",
        "  # Word importance for each method\n",
        "  methods_to_plot = list(graph_df[\"Method\"].unique())\n",
        "  for axis,method in zip(fig.axes,methods_to_plot):\n",
        "    my_palette = itertools.cycle(sns.color_palette(\"husl\")) # graph wasn't properly cycling through colors\n",
        "    row_mask = graph_df[\"Method\"] == method\n",
        "    x = graph_df.loc[row_mask,[\"Season\"]]\n",
        "    \n",
        "    # Plot importance for each word\n",
        "    for word in words_to_graph:\n",
        "      y = graph_df.loc[row_mask,word]\n",
        "      print(type(y))\n",
        "      print(y[0:10])\n",
        "      line_color = next(my_palette)\n",
        "      \n",
        "      axis.plot(x,y,label = word,color = line_color)\n",
        "      \n",
        "      # Words that only appear for a few seasons don't show up as lines\n",
        "      \n",
        "      fraction_missing = y.isnull().sum()/len(y)\n",
        "      if fraction_missing > 0.5:\n",
        "        axis.scatter(x,y,label = word, color = line_color)\n",
        "\n",
        "    # Format graph\n",
        "    axis.set_title(\"Word importance by {}\".format(method))\n",
        "    axis.set_xlabel(\"Season\")\n",
        "    axis.set_xticks(seasons)\n",
        "    axis.set_ylabel(\"Importance Measure\")\n",
        "\n",
        "  # Other graph formatting\n",
        "  \n",
        "  handles, labels = axis.get_legend_handles_labels()\n",
        "  by_label = OrderedDict(zip(labels, handles))\n",
        "  leg = axis.legend(by_label.values(), by_label.keys(),bbox_to_anchor=(1.2,1), loc=\"upper right\",frameon = True,edgecolor = \"black\")\n",
        "  leg.get_frame().set_linewidth(1)\n",
        "  plt.show()\n",
        "\n",
        "make_word_importance_graphs(\"Character_Cartman\",southpark_data_all)"
      ],
      "execution_count": 0,
      "outputs": [
        {
          "output_type": "stream",
          "text": [
            "<class 'pandas.core.series.Series'>\n",
            "0     NaN\n",
            "2     NaN\n",
            "4     NaN\n",
            "6      12\n",
            "8       8\n",
            "10     44\n",
            "12     40\n",
            "14     39\n",
            "16     42\n",
            "18     26\n",
            "Name: butter, dtype: object\n",
            "<class 'pandas.core.series.Series'>\n",
            "0     NaN\n",
            "2     NaN\n",
            "4     NaN\n",
            "6     NaN\n",
            "8       4\n",
            "10    NaN\n",
            "12    NaN\n",
            "14    NaN\n",
            "16    NaN\n",
            "18    NaN\n",
            "Name: david, dtype: object\n",
            "<class 'pandas.core.series.Series'>\n",
            "0     15\n",
            "2     22\n",
            "4     24\n",
            "6     22\n",
            "8     19\n",
            "10    12\n",
            "12    13\n",
            "14    18\n",
            "16    14\n",
            "18    13\n",
            "Name: dude, dtype: object\n",
            "<class 'pandas.core.series.Series'>\n",
            "0     51\n",
            "2     85\n",
            "4     99\n",
            "6     92\n",
            "8     63\n",
            "10    71\n",
            "12    71\n",
            "14    39\n",
            "16    29\n",
            "18    78\n",
            "Name: gui, dtype: object\n",
            "<class 'pandas.core.series.Series'>\n",
            "0     33\n",
            "2      8\n",
            "4     15\n",
            "6     34\n",
            "8     37\n",
            "10    39\n",
            "12    96\n",
            "14    59\n",
            "16    33\n",
            "18    81\n",
            "Name: kyle, dtype: object\n",
            "<class 'pandas.core.series.Series'>\n",
            "0     10\n",
            "2     16\n",
            "4     32\n",
            "6     33\n",
            "8     20\n",
            "10    33\n",
            "12    33\n",
            "14    16\n",
            "16    15\n",
            "18    27\n",
            "Name: okai, dtype: object\n",
            "<class 'pandas.core.series.Series'>\n",
            "0     12\n",
            "2      6\n",
            "4     15\n",
            "6     10\n",
            "8     24\n",
            "10    44\n",
            "12    21\n",
            "14    18\n",
            "16    20\n",
            "18    23\n",
            "Name: peopl, dtype: object\n",
            "<class 'pandas.core.series.Series'>\n",
            "1           NaN\n",
            "3           NaN\n",
            "5           NaN\n",
            "7     0.0672631\n",
            "9     0.0448041\n",
            "11      0.22979\n",
            "13     0.185395\n",
            "15     0.231308\n",
            "17     0.255971\n",
            "19     0.149463\n",
            "Name: butter, dtype: object\n",
            "<class 'pandas.core.series.Series'>\n",
            "1           NaN\n",
            "3           NaN\n",
            "5           NaN\n",
            "7           NaN\n",
            "9     0.0216664\n",
            "11          NaN\n",
            "13          NaN\n",
            "15          NaN\n",
            "17          NaN\n",
            "19          NaN\n",
            "Name: david, dtype: object\n",
            "<class 'pandas.core.series.Series'>\n",
            "1     0.0912594\n",
            "3      0.135375\n",
            "5      0.131856\n",
            "7      0.100996\n",
            "9      0.100006\n",
            "11    0.0657662\n",
            "13    0.0662016\n",
            "15     0.130623\n",
            "17    0.0919741\n",
            "19    0.0765424\n",
            "Name: dude, dtype: object\n",
            "<class 'pandas.core.series.Series'>\n",
            "1     0.264634\n",
            "3     0.424356\n",
            "5     0.403355\n",
            "7     0.365562\n",
            "9     0.281419\n",
            "11    0.316841\n",
            "13    0.261294\n",
            "15    0.216738\n",
            "17     0.16722\n",
            "19    0.329158\n",
            "Name: gui, dtype: object\n",
            "<class 'pandas.core.series.Series'>\n",
            "1      0.176473\n",
            "3     0.0444961\n",
            "5     0.0684365\n",
            "7      0.152408\n",
            "9      0.203646\n",
            "11     0.210055\n",
            "13     0.450765\n",
            "15     0.349928\n",
            "17     0.203749\n",
            "19     0.420327\n",
            "Name: kyle, dtype: object\n",
            "<class 'pandas.core.series.Series'>\n",
            "1     0.0479283\n",
            "3      0.072408\n",
            "5      0.122971\n",
            "7      0.121505\n",
            "9     0.0876461\n",
            "11     0.131311\n",
            "13     0.125308\n",
            "15    0.0875308\n",
            "17    0.0827258\n",
            "19     0.120534\n",
            "Name: okai, dtype: object\n",
            "<class 'pandas.core.series.Series'>\n",
            "1     0.0606285\n",
            "3     0.0286821\n",
            "5     0.0595559\n",
            "7     0.0374052\n",
            "9      0.103315\n",
            "11     0.175912\n",
            "13    0.0748017\n",
            "15    0.0921261\n",
            "17     0.100993\n",
            "19    0.0949793\n",
            "Name: peopl, dtype: object\n"
          ],
          "name": "stdout"
        },
        {
          "output_type": "display_data",
          "data": {
            "image/png": "[encoded data removed]",
            "text/plain": [
              "<matplotlib.figure.Figure at 0x7feda3261080>"
            ]
          },
          "metadata": {
            "tags": []
          }
        }
      ]
    },
    {
      "metadata": {
        "id": "oNSsOLZv_TKf",
        "colab_type": "text"
      },
      "cell_type": "markdown",
      "source": [
        "Note that both word importance measures measure similar relationships between important words for Cartman.  Given that we filtered out \"stop words\", this indicates that Cartman's most frequent words aren't (often) shared by other members of the Southpark cast."
      ]
    },
    {
      "metadata": {
        "id": "SRTHKPIYzZWv",
        "colab_type": "code",
        "colab": {}
      },
      "cell_type": "code",
      "source": [
        "results_df,top_5_frequency,top_5_tfidf = get_word_importance_data(\"Character_Cartman\",southpark_data_all)"
      ],
      "execution_count": 0,
      "outputs": []
    },
    {
      "metadata": {
        "id": "FhkWzufzzy2x",
        "colab_type": "code",
        "colab": {}
      },
      "cell_type": "code",
      "source": [
        "graph_df = results_df.loc[:,[\"Season\", \"Method\"] + list(set(top_5_frequency + top_5_tfidf))] "
      ],
      "execution_count": 0,
      "outputs": []
    },
    {
      "metadata": {
        "id": "0zNfNBKD0HkD",
        "colab_type": "code",
        "outputId": "c15e26e6-3f8f-47f9-9190-c7f416b844cf",
        "colab": {
          "base_uri": "https://localhost:8080/",
          "height": 1227
        }
      },
      "cell_type": "code",
      "source": [
        "graph_df"
      ],
      "execution_count": 0,
      "outputs": [
        {
          "output_type": "execute_result",
          "data": {
            "text/html": [
              "<div>\n",
              "<style scoped>\n",
              "    .dataframe tbody tr th:only-of-type {\n",
              "        vertical-align: middle;\n",
              "    }\n",
              "\n",
              "    .dataframe tbody tr th {\n",
              "        vertical-align: top;\n",
              "    }\n",
              "\n",
              "    .dataframe thead th {\n",
              "        text-align: right;\n",
              "    }\n",
              "</style>\n",
              "<table border=\"1\" class=\"dataframe\">\n",
              "  <thead>\n",
              "    <tr style=\"text-align: right;\">\n",
              "      <th></th>\n",
              "      <th>Season</th>\n",
              "      <th>Method</th>\n",
              "      <th>butter</th>\n",
              "      <th>david</th>\n",
              "      <th>peopl</th>\n",
              "      <th>kyle</th>\n",
              "      <th>okai</th>\n",
              "      <th>dude</th>\n",
              "      <th>gui</th>\n",
              "    </tr>\n",
              "  </thead>\n",
              "  <tbody>\n",
              "    <tr>\n",
              "      <th>0</th>\n",
              "      <td>1</td>\n",
              "      <td>Frequency</td>\n",
              "      <td>NaN</td>\n",
              "      <td>NaN</td>\n",
              "      <td>12</td>\n",
              "      <td>33</td>\n",
              "      <td>10</td>\n",
              "      <td>15</td>\n",
              "      <td>51</td>\n",
              "    </tr>\n",
              "    <tr>\n",
              "      <th>1</th>\n",
              "      <td>1</td>\n",
              "      <td>Tf-Idf</td>\n",
              "      <td>NaN</td>\n",
              "      <td>NaN</td>\n",
              "      <td>0.0606285</td>\n",
              "      <td>0.176473</td>\n",
              "      <td>0.0479283</td>\n",
              "      <td>0.0912594</td>\n",
              "      <td>0.264634</td>\n",
              "    </tr>\n",
              "    <tr>\n",
              "      <th>2</th>\n",
              "      <td>2</td>\n",
              "      <td>Frequency</td>\n",
              "      <td>NaN</td>\n",
              "      <td>NaN</td>\n",
              "      <td>6</td>\n",
              "      <td>8</td>\n",
              "      <td>16</td>\n",
              "      <td>22</td>\n",
              "      <td>85</td>\n",
              "    </tr>\n",
              "    <tr>\n",
              "      <th>3</th>\n",
              "      <td>2</td>\n",
              "      <td>Tf-Idf</td>\n",
              "      <td>NaN</td>\n",
              "      <td>NaN</td>\n",
              "      <td>0.0286821</td>\n",
              "      <td>0.0444961</td>\n",
              "      <td>0.072408</td>\n",
              "      <td>0.135375</td>\n",
              "      <td>0.424356</td>\n",
              "    </tr>\n",
              "    <tr>\n",
              "      <th>4</th>\n",
              "      <td>3</td>\n",
              "      <td>Frequency</td>\n",
              "      <td>NaN</td>\n",
              "      <td>NaN</td>\n",
              "      <td>15</td>\n",
              "      <td>15</td>\n",
              "      <td>32</td>\n",
              "      <td>24</td>\n",
              "      <td>99</td>\n",
              "    </tr>\n",
              "    <tr>\n",
              "      <th>5</th>\n",
              "      <td>3</td>\n",
              "      <td>Tf-Idf</td>\n",
              "      <td>NaN</td>\n",
              "      <td>NaN</td>\n",
              "      <td>0.0595559</td>\n",
              "      <td>0.0684365</td>\n",
              "      <td>0.122971</td>\n",
              "      <td>0.131856</td>\n",
              "      <td>0.403355</td>\n",
              "    </tr>\n",
              "    <tr>\n",
              "      <th>6</th>\n",
              "      <td>4</td>\n",
              "      <td>Frequency</td>\n",
              "      <td>12</td>\n",
              "      <td>NaN</td>\n",
              "      <td>10</td>\n",
              "      <td>34</td>\n",
              "      <td>33</td>\n",
              "      <td>22</td>\n",
              "      <td>92</td>\n",
              "    </tr>\n",
              "    <tr>\n",
              "      <th>7</th>\n",
              "      <td>4</td>\n",
              "      <td>Tf-Idf</td>\n",
              "      <td>0.0672631</td>\n",
              "      <td>NaN</td>\n",
              "      <td>0.0374052</td>\n",
              "      <td>0.152408</td>\n",
              "      <td>0.121505</td>\n",
              "      <td>0.100996</td>\n",
              "      <td>0.365562</td>\n",
              "    </tr>\n",
              "    <tr>\n",
              "      <th>8</th>\n",
              "      <td>5</td>\n",
              "      <td>Frequency</td>\n",
              "      <td>8</td>\n",
              "      <td>4</td>\n",
              "      <td>24</td>\n",
              "      <td>37</td>\n",
              "      <td>20</td>\n",
              "      <td>19</td>\n",
              "      <td>63</td>\n",
              "    </tr>\n",
              "    <tr>\n",
              "      <th>9</th>\n",
              "      <td>5</td>\n",
              "      <td>Tf-Idf</td>\n",
              "      <td>0.0448041</td>\n",
              "      <td>0.0216664</td>\n",
              "      <td>0.103315</td>\n",
              "      <td>0.203646</td>\n",
              "      <td>0.0876461</td>\n",
              "      <td>0.100006</td>\n",
              "      <td>0.281419</td>\n",
              "    </tr>\n",
              "    <tr>\n",
              "      <th>10</th>\n",
              "      <td>6</td>\n",
              "      <td>Frequency</td>\n",
              "      <td>44</td>\n",
              "      <td>NaN</td>\n",
              "      <td>44</td>\n",
              "      <td>39</td>\n",
              "      <td>33</td>\n",
              "      <td>12</td>\n",
              "      <td>71</td>\n",
              "    </tr>\n",
              "    <tr>\n",
              "      <th>11</th>\n",
              "      <td>6</td>\n",
              "      <td>Tf-Idf</td>\n",
              "      <td>0.22979</td>\n",
              "      <td>NaN</td>\n",
              "      <td>0.175912</td>\n",
              "      <td>0.210055</td>\n",
              "      <td>0.131311</td>\n",
              "      <td>0.0657662</td>\n",
              "      <td>0.316841</td>\n",
              "    </tr>\n",
              "    <tr>\n",
              "      <th>12</th>\n",
              "      <td>7</td>\n",
              "      <td>Frequency</td>\n",
              "      <td>40</td>\n",
              "      <td>NaN</td>\n",
              "      <td>21</td>\n",
              "      <td>96</td>\n",
              "      <td>33</td>\n",
              "      <td>13</td>\n",
              "      <td>71</td>\n",
              "    </tr>\n",
              "    <tr>\n",
              "      <th>13</th>\n",
              "      <td>7</td>\n",
              "      <td>Tf-Idf</td>\n",
              "      <td>0.185395</td>\n",
              "      <td>NaN</td>\n",
              "      <td>0.0748017</td>\n",
              "      <td>0.450765</td>\n",
              "      <td>0.125308</td>\n",
              "      <td>0.0662016</td>\n",
              "      <td>0.261294</td>\n",
              "    </tr>\n",
              "    <tr>\n",
              "      <th>14</th>\n",
              "      <td>8</td>\n",
              "      <td>Frequency</td>\n",
              "      <td>39</td>\n",
              "      <td>NaN</td>\n",
              "      <td>18</td>\n",
              "      <td>59</td>\n",
              "      <td>16</td>\n",
              "      <td>18</td>\n",
              "      <td>39</td>\n",
              "    </tr>\n",
              "    <tr>\n",
              "      <th>15</th>\n",
              "      <td>8</td>\n",
              "      <td>Tf-Idf</td>\n",
              "      <td>0.231308</td>\n",
              "      <td>NaN</td>\n",
              "      <td>0.0921261</td>\n",
              "      <td>0.349928</td>\n",
              "      <td>0.0875308</td>\n",
              "      <td>0.130623</td>\n",
              "      <td>0.216738</td>\n",
              "    </tr>\n",
              "    <tr>\n",
              "      <th>16</th>\n",
              "      <td>9</td>\n",
              "      <td>Frequency</td>\n",
              "      <td>42</td>\n",
              "      <td>NaN</td>\n",
              "      <td>20</td>\n",
              "      <td>33</td>\n",
              "      <td>15</td>\n",
              "      <td>14</td>\n",
              "      <td>29</td>\n",
              "    </tr>\n",
              "    <tr>\n",
              "      <th>17</th>\n",
              "      <td>9</td>\n",
              "      <td>Tf-Idf</td>\n",
              "      <td>0.255971</td>\n",
              "      <td>NaN</td>\n",
              "      <td>0.100993</td>\n",
              "      <td>0.203749</td>\n",
              "      <td>0.0827258</td>\n",
              "      <td>0.0919741</td>\n",
              "      <td>0.16722</td>\n",
              "    </tr>\n",
              "    <tr>\n",
              "      <th>18</th>\n",
              "      <td>10</td>\n",
              "      <td>Frequency</td>\n",
              "      <td>26</td>\n",
              "      <td>NaN</td>\n",
              "      <td>23</td>\n",
              "      <td>81</td>\n",
              "      <td>27</td>\n",
              "      <td>13</td>\n",
              "      <td>78</td>\n",
              "    </tr>\n",
              "    <tr>\n",
              "      <th>19</th>\n",
              "      <td>10</td>\n",
              "      <td>Tf-Idf</td>\n",
              "      <td>0.149463</td>\n",
              "      <td>NaN</td>\n",
              "      <td>0.0949793</td>\n",
              "      <td>0.420327</td>\n",
              "      <td>0.120534</td>\n",
              "      <td>0.0765424</td>\n",
              "      <td>0.329158</td>\n",
              "    </tr>\n",
              "    <tr>\n",
              "      <th>20</th>\n",
              "      <td>11</td>\n",
              "      <td>Frequency</td>\n",
              "      <td>25</td>\n",
              "      <td>NaN</td>\n",
              "      <td>14</td>\n",
              "      <td>108</td>\n",
              "      <td>18</td>\n",
              "      <td>14</td>\n",
              "      <td>18</td>\n",
              "    </tr>\n",
              "    <tr>\n",
              "      <th>21</th>\n",
              "      <td>11</td>\n",
              "      <td>Tf-Idf</td>\n",
              "      <td>0.133003</td>\n",
              "      <td>NaN</td>\n",
              "      <td>0.0614953</td>\n",
              "      <td>0.528246</td>\n",
              "      <td>0.0827212</td>\n",
              "      <td>0.0808061</td>\n",
              "      <td>0.0848866</td>\n",
              "    </tr>\n",
              "    <tr>\n",
              "      <th>22</th>\n",
              "      <td>12</td>\n",
              "      <td>Frequency</td>\n",
              "      <td>58</td>\n",
              "      <td>NaN</td>\n",
              "      <td>19</td>\n",
              "      <td>45</td>\n",
              "      <td>17</td>\n",
              "      <td>31</td>\n",
              "      <td>28</td>\n",
              "    </tr>\n",
              "    <tr>\n",
              "      <th>23</th>\n",
              "      <td>12</td>\n",
              "      <td>Tf-Idf</td>\n",
              "      <td>0.368239</td>\n",
              "      <td>NaN</td>\n",
              "      <td>0.0992423</td>\n",
              "      <td>0.281168</td>\n",
              "      <td>0.0870264</td>\n",
              "      <td>0.200271</td>\n",
              "      <td>0.144277</td>\n",
              "    </tr>\n",
              "    <tr>\n",
              "      <th>24</th>\n",
              "      <td>13</td>\n",
              "      <td>Frequency</td>\n",
              "      <td>19</td>\n",
              "      <td>NaN</td>\n",
              "      <td>31</td>\n",
              "      <td>27</td>\n",
              "      <td>14</td>\n",
              "      <td>43</td>\n",
              "      <td>52</td>\n",
              "    </tr>\n",
              "    <tr>\n",
              "      <th>25</th>\n",
              "      <td>13</td>\n",
              "      <td>Tf-Idf</td>\n",
              "      <td>0.103091</td>\n",
              "      <td>NaN</td>\n",
              "      <td>0.129338</td>\n",
              "      <td>0.153191</td>\n",
              "      <td>0.0636397</td>\n",
              "      <td>0.264724</td>\n",
              "      <td>0.23491</td>\n",
              "    </tr>\n",
              "    <tr>\n",
              "      <th>26</th>\n",
              "      <td>14</td>\n",
              "      <td>Frequency</td>\n",
              "      <td>35</td>\n",
              "      <td>NaN</td>\n",
              "      <td>14</td>\n",
              "      <td>33</td>\n",
              "      <td>10</td>\n",
              "      <td>33</td>\n",
              "      <td>25</td>\n",
              "    </tr>\n",
              "    <tr>\n",
              "      <th>27</th>\n",
              "      <td>14</td>\n",
              "      <td>Tf-Idf</td>\n",
              "      <td>0.261293</td>\n",
              "      <td>NaN</td>\n",
              "      <td>0.0849744</td>\n",
              "      <td>0.256712</td>\n",
              "      <td>0.068496</td>\n",
              "      <td>0.27851</td>\n",
              "      <td>0.183289</td>\n",
              "    </tr>\n",
              "    <tr>\n",
              "      <th>28</th>\n",
              "      <td>15</td>\n",
              "      <td>Frequency</td>\n",
              "      <td>13</td>\n",
              "      <td>NaN</td>\n",
              "      <td>12</td>\n",
              "      <td>53</td>\n",
              "      <td>26</td>\n",
              "      <td>22</td>\n",
              "      <td>46</td>\n",
              "    </tr>\n",
              "    <tr>\n",
              "      <th>29</th>\n",
              "      <td>15</td>\n",
              "      <td>Tf-Idf</td>\n",
              "      <td>0.0799649</td>\n",
              "      <td>NaN</td>\n",
              "      <td>0.0576893</td>\n",
              "      <td>0.308901</td>\n",
              "      <td>0.133696</td>\n",
              "      <td>0.142617</td>\n",
              "      <td>0.254329</td>\n",
              "    </tr>\n",
              "    <tr>\n",
              "      <th>30</th>\n",
              "      <td>16</td>\n",
              "      <td>Frequency</td>\n",
              "      <td>37</td>\n",
              "      <td>NaN</td>\n",
              "      <td>28</td>\n",
              "      <td>92</td>\n",
              "      <td>19</td>\n",
              "      <td>42</td>\n",
              "      <td>56</td>\n",
              "    </tr>\n",
              "    <tr>\n",
              "      <th>31</th>\n",
              "      <td>16</td>\n",
              "      <td>Tf-Idf</td>\n",
              "      <td>0.160664</td>\n",
              "      <td>NaN</td>\n",
              "      <td>0.108658</td>\n",
              "      <td>0.427499</td>\n",
              "      <td>0.0748426</td>\n",
              "      <td>0.237107</td>\n",
              "      <td>0.236465</td>\n",
              "    </tr>\n",
              "    <tr>\n",
              "      <th>32</th>\n",
              "      <td>17</td>\n",
              "      <td>Frequency</td>\n",
              "      <td>16</td>\n",
              "      <td>NaN</td>\n",
              "      <td>19</td>\n",
              "      <td>56</td>\n",
              "      <td>16</td>\n",
              "      <td>28</td>\n",
              "      <td>26</td>\n",
              "    </tr>\n",
              "    <tr>\n",
              "      <th>33</th>\n",
              "      <td>17</td>\n",
              "      <td>Tf-Idf</td>\n",
              "      <td>0.115572</td>\n",
              "      <td>NaN</td>\n",
              "      <td>0.103906</td>\n",
              "      <td>0.398081</td>\n",
              "      <td>0.0874998</td>\n",
              "      <td>0.205799</td>\n",
              "      <td>0.159148</td>\n",
              "    </tr>\n",
              "    <tr>\n",
              "      <th>34</th>\n",
              "      <td>18</td>\n",
              "      <td>Frequency</td>\n",
              "      <td>70</td>\n",
              "      <td>NaN</td>\n",
              "      <td>14</td>\n",
              "      <td>36</td>\n",
              "      <td>28</td>\n",
              "      <td>41</td>\n",
              "      <td>43</td>\n",
              "    </tr>\n",
              "    <tr>\n",
              "      <th>35</th>\n",
              "      <td>18</td>\n",
              "      <td>Tf-Idf</td>\n",
              "      <td>0.416134</td>\n",
              "      <td>NaN</td>\n",
              "      <td>0.0673051</td>\n",
              "      <td>0.223789</td>\n",
              "      <td>0.144215</td>\n",
              "      <td>0.28429</td>\n",
              "      <td>0.21154</td>\n",
              "    </tr>\n",
              "    <tr>\n",
              "      <th>36</th>\n",
              "      <td>19</td>\n",
              "      <td>Frequency</td>\n",
              "      <td>24</td>\n",
              "      <td>18</td>\n",
              "      <td>25</td>\n",
              "      <td>37</td>\n",
              "      <td>24</td>\n",
              "      <td>25</td>\n",
              "      <td>24</td>\n",
              "    </tr>\n",
              "    <tr>\n",
              "      <th>37</th>\n",
              "      <td>19</td>\n",
              "      <td>Tf-Idf</td>\n",
              "      <td>0.23437</td>\n",
              "      <td>0.203459</td>\n",
              "      <td>0.174727</td>\n",
              "      <td>0.333154</td>\n",
              "      <td>0.19463</td>\n",
              "      <td>0.212348</td>\n",
              "      <td>0.177771</td>\n",
              "    </tr>\n",
              "  </tbody>\n",
              "</table>\n",
              "</div>"
            ],
            "text/plain": [
              "   Season     Method     butter      david      peopl       kyle       okai  \\\n",
              "0       1  Frequency        NaN        NaN         12         33         10   \n",
              "1       1     Tf-Idf        NaN        NaN  0.0606285   0.176473  0.0479283   \n",
              "2       2  Frequency        NaN        NaN          6          8         16   \n",
              "3       2     Tf-Idf        NaN        NaN  0.0286821  0.0444961   0.072408   \n",
              "4       3  Frequency        NaN        NaN         15         15         32   \n",
              "5       3     Tf-Idf        NaN        NaN  0.0595559  0.0684365   0.122971   \n",
              "6       4  Frequency         12        NaN         10         34         33   \n",
              "7       4     Tf-Idf  0.0672631        NaN  0.0374052   0.152408   0.121505   \n",
              "8       5  Frequency          8          4         24         37         20   \n",
              "9       5     Tf-Idf  0.0448041  0.0216664   0.103315   0.203646  0.0876461   \n",
              "10      6  Frequency         44        NaN         44         39         33   \n",
              "11      6     Tf-Idf    0.22979        NaN   0.175912   0.210055   0.131311   \n",
              "12      7  Frequency         40        NaN         21         96         33   \n",
              "13      7     Tf-Idf   0.185395        NaN  0.0748017   0.450765   0.125308   \n",
              "14      8  Frequency         39        NaN         18         59         16   \n",
              "15      8     Tf-Idf   0.231308        NaN  0.0921261   0.349928  0.0875308   \n",
              "16      9  Frequency         42        NaN         20         33         15   \n",
              "17      9     Tf-Idf   0.255971        NaN   0.100993   0.203749  0.0827258   \n",
              "18     10  Frequency         26        NaN         23         81         27   \n",
              "19     10     Tf-Idf   0.149463        NaN  0.0949793   0.420327   0.120534   \n",
              "20     11  Frequency         25        NaN         14        108         18   \n",
              "21     11     Tf-Idf   0.133003        NaN  0.0614953   0.528246  0.0827212   \n",
              "22     12  Frequency         58        NaN         19         45         17   \n",
              "23     12     Tf-Idf   0.368239        NaN  0.0992423   0.281168  0.0870264   \n",
              "24     13  Frequency         19        NaN         31         27         14   \n",
              "25     13     Tf-Idf   0.103091        NaN   0.129338   0.153191  0.0636397   \n",
              "26     14  Frequency         35        NaN         14         33         10   \n",
              "27     14     Tf-Idf   0.261293        NaN  0.0849744   0.256712   0.068496   \n",
              "28     15  Frequency         13        NaN         12         53         26   \n",
              "29     15     Tf-Idf  0.0799649        NaN  0.0576893   0.308901   0.133696   \n",
              "30     16  Frequency         37        NaN         28         92         19   \n",
              "31     16     Tf-Idf   0.160664        NaN   0.108658   0.427499  0.0748426   \n",
              "32     17  Frequency         16        NaN         19         56         16   \n",
              "33     17     Tf-Idf   0.115572        NaN   0.103906   0.398081  0.0874998   \n",
              "34     18  Frequency         70        NaN         14         36         28   \n",
              "35     18     Tf-Idf   0.416134        NaN  0.0673051   0.223789   0.144215   \n",
              "36     19  Frequency         24         18         25         37         24   \n",
              "37     19     Tf-Idf    0.23437   0.203459   0.174727   0.333154    0.19463   \n",
              "\n",
              "         dude        gui  \n",
              "0          15         51  \n",
              "1   0.0912594   0.264634  \n",
              "2          22         85  \n",
              "3    0.135375   0.424356  \n",
              "4          24         99  \n",
              "5    0.131856   0.403355  \n",
              "6          22         92  \n",
              "7    0.100996   0.365562  \n",
              "8          19         63  \n",
              "9    0.100006   0.281419  \n",
              "10         12         71  \n",
              "11  0.0657662   0.316841  \n",
              "12         13         71  \n",
              "13  0.0662016   0.261294  \n",
              "14         18         39  \n",
              "15   0.130623   0.216738  \n",
              "16         14         29  \n",
              "17  0.0919741    0.16722  \n",
              "18         13         78  \n",
              "19  0.0765424   0.329158  \n",
              "20         14         18  \n",
              "21  0.0808061  0.0848866  \n",
              "22         31         28  \n",
              "23   0.200271   0.144277  \n",
              "24         43         52  \n",
              "25   0.264724    0.23491  \n",
              "26         33         25  \n",
              "27    0.27851   0.183289  \n",
              "28         22         46  \n",
              "29   0.142617   0.254329  \n",
              "30         42         56  \n",
              "31   0.237107   0.236465  \n",
              "32         28         26  \n",
              "33   0.205799   0.159148  \n",
              "34         41         43  \n",
              "35    0.28429    0.21154  \n",
              "36         25         24  \n",
              "37   0.212348   0.177771  "
            ]
          },
          "metadata": {
            "tags": []
          },
          "execution_count": 38
        }
      ]
    },
    {
      "metadata": {
        "id": "bIS4V-QEoY0Y",
        "colab_type": "code",
        "outputId": "3d66b4d5-53fd-4de4-afc5-09f9e751ae2a",
        "colab": {
          "base_uri": "https://localhost:8080/",
          "height": 355
        }
      },
      "cell_type": "code",
      "source": [
        "make_word_importance_graphs(\"Character_Kyle\",southpark_data_all)"
      ],
      "execution_count": 0,
      "outputs": [
        {
          "output_type": "display_data",
          "data": {
            "image/png": "[encoded data removed]",
            "text/plain": [
              "<matplotlib.figure.Figure at 0x7fa2f66e2748>"
            ]
          },
          "metadata": {
            "tags": []
          }
        }
      ]
    },
    {
      "metadata": {
        "id": "64-BTx7eiCzw",
        "colab_type": "text"
      },
      "cell_type": "markdown",
      "source": [
        "## Word and Sentence Representation"
      ]
    },
    {
      "metadata": {
        "id": "aaSXfHCgmIx_",
        "colab_type": "text"
      },
      "cell_type": "markdown",
      "source": [
        "To model language, we have to make a series of choices on how to represent words, their relationship with each other, and the relationship between larger entities such as sentences.  How can we mathematically represent the lines spoken by each character?  \n",
        "\n",
        "### Representing Words\n",
        "\n",
        "**Lemmatization/Stemming**\n",
        "\n",
        "Words previously known to have similar meaning are mapped to a single representation.\n",
        "\n",
        "**Word Importance Measures**\n",
        "\n",
        "Considerations other than the frequency of a word.\n",
        "\n",
        "\n",
        "### Representing groups of words\n",
        "\n",
        "The dominant modeling paradigm are Vector Space Models (VSM) - models which represent language in a vectorized semantic space.\n",
        "\n",
        "**Bag of Words**\n",
        "\n",
        "The simplest (but often effective) representation is the Bag of Words (BoW) format.  Word frequencies for the unit of interest (sentence, paragraph, document, etc) are computed and a transformation may be applied (such as tf-idf) to better measure the contribution of each word.  Information conveyed by the order of words is lost.\n",
        "\n",
        "**Bag of N-grams**\n",
        "\n",
        "The same as BoW, but the frequency of continuous sequences of tokens is considered instead of single words.  A 2-gram representation of \"The cat ran quickly\" would become \\[\"The cat\".\"cat ran\",\"ran quickly\"\\].  This captures more syntactic structure than BoW, but has computational limitations and cannot capture long term dependency.\n",
        "\n",
        "**Dense Word Embeddings**\n",
        "\n",
        "Approaches such as Latent Semantic Indexing (LSI) and newer neural language approaches such as Word2Vec, Doc2Vec, etc project words into a low dimensional space where similar words (according to some measure of similarity) are close to each other.  This contrasts with the \"Bag of X\" approaches, which are *sparse* representations of language.\n",
        "\n",
        "Word embeddings can be combined (summed, averaged, multiplied, weighted by word importance and then combined) to produce dense representations for groups of words.  Groups of words can also be explicitly modeled with embeddings techniques such as Doc2Vec.\n",
        "\n",
        "\n",
        "\n",
        "\n",
        "**With embeddings**\n",
        "\n",
        "\n",
        "\n",
        "That being said, let's try finding words which are similar to Cartman using some of the above techniques."
      ]
    },
    {
      "metadata": {
        "id": "rK6qHZ6YYUb8",
        "colab_type": "text"
      },
      "cell_type": "markdown",
      "source": [
        "**Note:** Investigate PMI, smoothing/regularization can be done to improve results\n",
        "\n",
        "[article](https://multithreaded.stitchfix.com/blog/2017/10/18/stop-using-word2vec/) on effectiveness of this method vs word2vec"
      ]
    },
    {
      "metadata": {
        "id": "5F8FTd-Djl7c",
        "colab_type": "code",
        "colab": {}
      },
      "cell_type": "code",
      "source": [
        "# Word2Vec\n",
        "from gensim.models import Word2Vec\n",
        "\n",
        "model_w2v = Word2Vec(southpark_data_all[\"Line_cleaned\"],size = 300,iter = 1000)"
      ],
      "execution_count": 0,
      "outputs": []
    },
    {
      "metadata": {
        "id": "h4MiZpqjZUsh",
        "colab_type": "code",
        "outputId": "ad666216-27ae-4c9d-cbaf-c821a610dfe2",
        "colab": {
          "base_uri": "https://localhost:8080/",
          "height": 241
        }
      },
      "cell_type": "code",
      "source": [
        "model_w2v.wv.most_similar(positive = [\"cartman\"])"
      ],
      "execution_count": 0,
      "outputs": [
        {
          "output_type": "stream",
          "text": [
            "/usr/local/lib/python3.6/dist-packages/gensim/matutils.py:737: FutureWarning: Conversion of the second argument of issubdtype from `int` to `np.signedinteger` is deprecated. In future, it will be treated as `np.int64 == np.dtype(int).type`.\n",
            "  if np.issubdtype(vec.dtype, np.int):\n"
          ],
          "name": "stderr"
        },
        {
          "output_type": "execute_result",
          "data": {
            "text/plain": [
              "[('kyle', 0.4484092593193054),\n",
              " ('stan', 0.3477453589439392),\n",
              " ('butter', 0.3470917046070099),\n",
              " ('kenni', 0.3389805555343628),\n",
              " ('gui', 0.3377819061279297),\n",
              " ('know', 0.3312566876411438),\n",
              " ('right', 0.3195687532424927),\n",
              " ('gonna', 0.3157714307308197),\n",
              " ('think', 0.30084460973739624),\n",
              " ('mom', 0.2997584342956543)]"
            ]
          },
          "metadata": {
            "tags": []
          },
          "execution_count": 18
        }
      ]
    },
    {
      "metadata": {
        "id": "VOzueI18eXL7",
        "colab_type": "code",
        "outputId": "87f7bb2c-0650-40ea-df46-e8a63ba28250",
        "colab": {
          "base_uri": "https://localhost:8080/",
          "height": 241
        }
      },
      "cell_type": "code",
      "source": [
        "# Cartman's signature line is \"screw you guys\"\n",
        "model_w2v.wv.most_similar(positive=[\"screw\",\"gui\"])"
      ],
      "execution_count": 0,
      "outputs": [
        {
          "output_type": "stream",
          "text": [
            "/usr/local/lib/python3.6/dist-packages/gensim/matutils.py:737: FutureWarning: Conversion of the second argument of issubdtype from `int` to `np.signedinteger` is deprecated. In future, it will be treated as `np.int64 == np.dtype(int).type`.\n",
            "  if np.issubdtype(vec.dtype, np.int):\n"
          ],
          "name": "stderr"
        },
        {
          "output_type": "execute_result",
          "data": {
            "text/plain": [
              "[('yeah', 0.4831019341945648),\n",
              " ('dude', 0.4326745271682739),\n",
              " ('right', 0.38963818550109863),\n",
              " ('kyle', 0.38738688826560974),\n",
              " ('wanna', 0.3747573494911194),\n",
              " ('mean', 0.355117529630661),\n",
              " ('hei', 0.35001885890960693),\n",
              " ('know', 0.34601062536239624),\n",
              " ('gonna', 0.34437325596809387),\n",
              " ('think', 0.34096384048461914)]"
            ]
          },
          "metadata": {
            "tags": []
          },
          "execution_count": 19
        }
      ]
    },
    {
      "metadata": {
        "id": "afqnybG4fGAA",
        "colab_type": "text"
      },
      "cell_type": "markdown",
      "source": [
        "We can find similar lines by combining the word vectors for individual words.\n",
        "\n",
        "good recommendations for how to do so can be found [here](https://stackoverflow.com/questions/29760935/how-to-get-vector-for-a-sentence-from-the-word2vec-of-tokens-in-sentence)"
      ]
    },
    {
      "metadata": {
        "id": "mHgmQxRje3sI",
        "colab_type": "code",
        "colab": {}
      },
      "cell_type": "code",
      "source": [
        "from sklearn.metrics.pairwise import cosine_similarity\n",
        "\n",
        "# Find similar lines by adding word vectors and computing cosine similarity\n",
        "def create_w2v_corpus(w2v_model,corpus):\n",
        "  w2v_dimension = w2v_model.trainables.layer1_size\n",
        "  corpus_length = len(corpus)\n",
        "  corpus_w2v = np.empty((corpus_length,w2v_dimension))\n",
        "  \n",
        "  for index,doc in enumerate(corpus):\n",
        "    for token in doc:\n",
        "      try:\n",
        "        corpus_w2v[index,:] += w2v_model.wv.get_vector(token)\n",
        "      except KeyError:\n",
        "        pass\n",
        "  return corpus_w2v\n",
        "\n",
        "def get_similar_docs_w2v(words,corpus_w2v,model,corpus = southpark_data_all[\"Line_cleaned\"],combination_method = \"sum\"):\n",
        "  # Get word vectors for query\n",
        "  word_vectors = []\n",
        "  for word in words:\n",
        "    try:\n",
        "      word_vectors.append(model.wv.get_vector(word))\n",
        "    except KeyError:\n",
        "      pass\n",
        "  \n",
        "  # Combine word vectors \n",
        "  if combination_method == \"sum\":\n",
        "    document_vector = sum(word_vectors)\n",
        "  elif combination_method == \"avg\":\n",
        "    document_vector = sum(word_vectors)/len(word_vectors)\n",
        "  \n",
        "  # Rank word vectors by cosine similarity\n",
        "  similarity_matrix = cosine_similarity(np.reshape(document_vector,(1,-1)),corpus_w2v)[0]\n",
        "  sort_index = np.argsort(-similarity_matrix) # np.argsort sorts in ascending\n",
        "\n",
        "  # Print top 10 similar lines (uncleaned)\n",
        "  similar_docs = southpark_data_all.iloc[sort_index[0:10],list(southpark_data_all.columns).index(\"Line\")]\n",
        "  scores = similarity_matrix[sort_index[0:10]]\n",
        "  for i,(doc,similarity_score) in enumerate(zip(similar_docs,scores)):\n",
        "    print(\"Similarity: {}\".format(similarity_score))\n",
        "    print(doc)\n",
        "  return zip(similar_docs,scores)"
      ],
      "execution_count": 0,
      "outputs": []
    },
    {
      "metadata": {
        "id": "y5vsuMu_Pfxl",
        "colab_type": "code",
        "outputId": "682bab56-89ba-4abc-c200-e4c479a5c3bb",
        "colab": {
          "base_uri": "https://localhost:8080/",
          "height": 527
        }
      },
      "cell_type": "code",
      "source": [
        "words = [\"screw\",\"gui\"]\n",
        "corpus_w2v = create_w2v_corpus(model_w2v,southpark_data_all[\"Line_cleaned\"])\n",
        "similar_docs_w2v = get_similar_docs_w2v(words,corpus_w2v,model_w2v)"
      ],
      "execution_count": 0,
      "outputs": [
        {
          "output_type": "stream",
          "text": [
            "Similarity: 0.9999999999999998\n",
            "Lehh, eh, screw you guys!\n",
            "\n",
            "Similarity: 0.9999999999999998\n",
            "Blulululuh. Screw you guys.\n",
            "\n",
            "Similarity: 0.9999999999999998\n",
            "Screw you guys, screw you guysScrew you guys, scr--\n",
            "\n",
            "Similarity: 0.9999999999999998\n",
            "Well, screw you guys! \n",
            "\n",
            "Similarity: 0.9319565646236079\n",
            "Screw that, dude! We're guys. We can outthink them.\n",
            "\n",
            "Similarity: 0.9244372341953893\n",
            "Ye-ah, screw those guys. I don't even like them.\n",
            "\n",
            "Similarity: 0.8911322325148294\n",
            "Yeah, screw them!\n",
            "\n",
            "Similarity: 0.8783150790502321\n",
            "Screw you guys! … Go to Hell!\n",
            "\n",
            "Similarity: 0.8769994729002588\n",
            "Screw this guy! He can't take out all of us!  Aargh!\n",
            "\n",
            "Similarity: 0.8768901763446146\n",
            "Hey! Don't screw around! You screw around too much!\n",
            "\n"
          ],
          "name": "stdout"
        }
      ]
    },
    {
      "metadata": {
        "id": "XXq84QlmLEqr",
        "colab_type": "text"
      },
      "cell_type": "markdown",
      "source": [
        "Directly embedding documents using Doc2Vec can also allow us to identify similar lines."
      ]
    },
    {
      "metadata": {
        "id": "Ht-PCjx9noxV",
        "colab_type": "code",
        "colab": {}
      },
      "cell_type": "code",
      "source": [
        "# Doc2Vec\n",
        "from gensim.models import Doc2Vec\n",
        "from gensim.models.doc2vec import TaggedDocument\n",
        "class tagged_doc_generator(object):\n",
        "  def __init__(self,data = southpark_data_all[\"Line_cleaned\"]):\n",
        "    self.data = data\n",
        "  \n",
        "  def __iter__(self):\n",
        "    for index,doc in enumerate(self.data):\n",
        "      yield TaggedDocument(words = doc,tags = [index])\n",
        "\n",
        "class doc2vec_class(object):\n",
        "  def __init__(self,vector_size = 100,epochs = 1000,doc_generator = tagged_doc_generator()):\n",
        "    self.vector_size = vector_size\n",
        "    self.epochs = epochs\n",
        "    self.doc_generator = doc_generator\n",
        "    \n",
        "    self.model = Doc2Vec(self.doc_generator,self.vector_size,self.epochs)\n",
        "    \n",
        "  def get_most_similar_docs(self,words):\n",
        "    new_vector = self.model.infer_vector(words)\n",
        "    similar_documents = self.model.docvecs.most_similar([new_vector])\n",
        "    for tup in similar_documents:\n",
        "      print(\"Similarity: {}\".format(tup[1]))\n",
        "      print(southpark_data_all.iloc[tup[0],southpark_data_all.columns.get_loc(\"Line\")])\n",
        "    \n",
        "model_d2v = doc2vec_class()"
      ],
      "execution_count": 0,
      "outputs": []
    },
    {
      "metadata": {
        "id": "DMygeKZ8bLLG",
        "colab_type": "code",
        "outputId": "919cb490-8da6-4b14-abc8-cef808363b3b",
        "colab": {
          "base_uri": "https://localhost:8080/",
          "height": 717
        }
      },
      "cell_type": "code",
      "source": [
        "words = [\"screw\",\"gui\"]\n",
        "model_d2v.get_most_similar_docs(words)"
      ],
      "execution_count": 0,
      "outputs": [
        {
          "output_type": "stream",
          "text": [
            "Similarity: 0.8231909275054932\n",
            "Goddammit, vegans piss me off! Now we're gonna end up with a stupid eagle or a faggy bobcat as a mascot.\n",
            "\n",
            "Similarity: 0.8221637010574341\n",
            "YEAH!  Free Hat! Free Hat! Free Hat! Free Hat! Free Hat! Free Hat! Free Hat! Free Hat!\n",
            "\n",
            "Similarity: 0.8214345574378967\n",
            "Yeah. You know, I had a guy in Jackson County. He had a little drum circle in his backyard. It turned into a drum circle four miles in diameter. You get a few hippies playing drums and next thing you know, you got yourself a colony.\n",
            "\n",
            "Similarity: 0.8207608461380005\n",
            "FOX Studios claims that the Family Guy writing staff has demanded the Mohammad character be seen in full view.  The head of FOX had this to say:\n",
            "\n",
            "Similarity: 0.8171677589416504\n",
            "Tootin' tootin' to, tada choo choo wow!\n",
            "There's a place called the rainforest; it truly sucks ass.\n",
            "Let's knock it all down and get rid of it fast.\n",
            "You say, \"Save the rainforest,\" but what do you know?\n",
            "You've never been to the rainforest before.\n",
            "Getting Gay With Kids is here! \n",
            "To tell you things you might not like to hear. \n",
            "You only fight these causes 'cause caring sells.\n",
            "All you activists can go fuck yourselves!\n",
            "\n",
            "Similarity: 0.8161062598228455\n",
            "It works just like the ones we sent to Earth. All the commands you make will be sent to the troops down on the battlefield. All you have to do is play the game, Kenny. Only this time, It's for reals.\n",
            "\n",
            "Similarity: 0.8161002397537231\n",
            "Pick the gun up! You might as well. Swifting and hilling is like playing with a loaded gun! Do you all understand my point?\n",
            "\n",
            "Similarity: 0.8158234357833862\n",
            "If someone says they saw a Sasquatch, they are either lying or they are stupid. Now stop lying about a Jewpacabra before stupid people start believing you!\n",
            "\n",
            "Similarity: 0.8157423734664917\n",
            "...I was... I was 18 when my high-school men's choir performed at the grand opening of a sporting-goods store in Denver.  I was just one of fifteen members and I had no idea that a record producer was in the audience. \n",
            "\n",
            "Similarity: 0.8156264424324036\n",
            "That is-a the problem. The maintenance room is a way down on the basement-a level. I would do it but-a Pi Pi is-a no good at-a swimming. Somebody will have to dive-a down into the pee, then stay there to turn the release-a wheel. So, who can hold their breath-a the longest? \n",
            "\n"
          ],
          "name": "stdout"
        },
        {
          "output_type": "stream",
          "text": [
            "/usr/local/lib/python3.6/dist-packages/gensim/matutils.py:737: FutureWarning: Conversion of the second argument of issubdtype from `int` to `np.signedinteger` is deprecated. In future, it will be treated as `np.int64 == np.dtype(int).type`.\n",
            "  if np.issubdtype(vec.dtype, np.int):\n"
          ],
          "name": "stderr"
        }
      ]
    },
    {
      "metadata": {
        "id": "2z4NyDWBONKl",
        "colab_type": "text"
      },
      "cell_type": "markdown",
      "source": [
        "Some other word embedding resources include a [paper](https://openreview.net/pdf?id=SyK00v5xx) on how to achieve strong baseline performance, and [poincare embeddings](https://arxiv.org/pdf/1705.08039.pdf).\n",
        "\n"
      ]
    },
    {
      "metadata": {
        "id": "BvhgX2wshShd",
        "colab_type": "text"
      },
      "cell_type": "markdown",
      "source": [
        "Embeds words into a low dimensional space using Singular Value Decomposition.  This could allow us to perform similarity queries, but in addition it allows us to infer topics for a document!"
      ]
    },
    {
      "metadata": {
        "id": "r1qEIzYsiKiN",
        "colab_type": "code",
        "colab": {}
      },
      "cell_type": "code",
      "source": [
        "# Latent Semantic Indexing/Analysis (LSI/LSA)\n",
        "from gensim.models import LsiModel\n",
        "\n",
        "class lsi_class(object):\n",
        "  \n",
        "  def __init__(self,data,dictionary = None):\n",
        "    self.data = data\n",
        "    self.dictionary = dictionary\n",
        "    if not dictionary:\n",
        "      self.dictionary = Dictionary(self.data)\n",
        "      \n",
        "    # Transform data into tf-idf representation\n",
        "    self.data_transformed = [dictionary.doc2bow(doc) for doc in self.data] # bow representation\n",
        "    tfidf_model = TfidfModel(self.data_transformed)  # Creates tf-idf weights\n",
        "    self.data_transformed = tfidf_model[self.data_transformed] # Transforms bow representation\n",
        "    \n",
        "    # Train model\n",
        "    lsi_model = LsiModel(self.data_transformed,num_topics = 300, id2word = dictionary)\n",
        "    self.model = lsi_model\n",
        "    \n",
        "  def get_most_similar_words(self,word):\n",
        "    pass\n",
        "  \n",
        "  def get_topics(self,doc):\n",
        "    pass\n",
        "\n",
        "\n",
        "model_lsi = LsiModel([dictionary.doc2bow(doc) for doc in southpark_data_all[\"Line_cleaned\"]],num_topics = 300,id2word = dictionary)"
      ],
      "execution_count": 0,
      "outputs": []
    },
    {
      "metadata": {
        "id": "bRsABlchE0cp",
        "colab_type": "code",
        "colab": {}
      },
      "cell_type": "code",
      "source": [
        "test = lsi_class(southpark_data_all[\"Line_cleaned\"],dictionary = dictionary)"
      ],
      "execution_count": 0,
      "outputs": []
    },
    {
      "metadata": {
        "id": "Dn2xdulpRj6Z",
        "colab_type": "code",
        "outputId": "8a3fccb2-4703-4e61-dae3-0383227232c4",
        "colab": {
          "base_uri": "https://localhost:8080/",
          "height": 357
        }
      },
      "cell_type": "code",
      "source": [
        "test.model.print_topics(num_topics=10,num_words=5)"
      ],
      "execution_count": 0,
      "outputs": [
        {
          "output_type": "execute_result",
          "data": {
            "text/plain": [
              "[(0,\n",
              "  '0.991*\"yeah\" + 0.071*\"right\" + 0.040*\"know\" + 0.034*\"dude\" + 0.028*\"come\"'),\n",
              " (1,\n",
              "  '0.607*\"right\" + 0.289*\"know\" + 0.261*\"dude\" + 0.245*\"come\" + 0.215*\"hei\"'),\n",
              " (2,\n",
              "  '-0.763*\"right\" + 0.374*\"dude\" + 0.275*\"know\" + 0.243*\"hei\" + 0.138*\"okai\"'),\n",
              " (3,\n",
              "  '0.719*\"ye\" + -0.541*\"dude\" + 0.369*\"know\" + -0.153*\"hei\" + -0.094*\"right\"'),\n",
              " (4,\n",
              "  '-0.666*\"ye\" + -0.525*\"dude\" + 0.446*\"know\" + 0.196*\"okai\" + 0.142*\"god\"'),\n",
              " (5,\n",
              "  '0.627*\"know\" + -0.521*\"god\" + -0.342*\"okai\" + 0.302*\"dude\" + -0.203*\"hei\"'),\n",
              " (6,\n",
              "  '0.759*\"god\" + -0.550*\"okai\" + -0.190*\"hei\" + 0.155*\"know\" + 0.127*\"dude\"'),\n",
              " (7,\n",
              "  '0.643*\"hei\" + -0.619*\"okai\" + -0.292*\"dude\" + 0.207*\"gui\" + -0.182*\"god\"'),\n",
              " (8,\n",
              "  '0.803*\"come\" + -0.463*\"hei\" + -0.237*\"okai\" + 0.159*\"let\" + -0.109*\"god\"'),\n",
              " (9,\n",
              "  '0.989*\"huh\" + -0.096*\"come\" + -0.055*\"hei\" + -0.051*\"know\" + -0.042*\"god\"')]"
            ]
          },
          "metadata": {
            "tags": []
          },
          "execution_count": 26
        }
      ]
    },
    {
      "metadata": {
        "id": "IdhrHlMyUdKs",
        "colab_type": "text"
      },
      "cell_type": "markdown",
      "source": [
        "## Topic Modeling"
      ]
    },
    {
      "metadata": {
        "id": "n9xndhAgUn_3",
        "colab_type": "text"
      },
      "cell_type": "markdown",
      "source": [
        "[This](https://blog.insightdatascience.com/topic-modeling-and-sentiment-analysis-to-pinpoint-the-perfect-doctor-6a8fdd4a3904) post might be useful\n",
        "\n",
        "[Paper](http://citeseerx.ist.psu.edu/viewdoc/download?doi=10.1.1.163.5917&rep=rep1&type=pdf) on joint topic-sentiment modeling"
      ]
    },
    {
      "metadata": {
        "id": "rWzu4ozojXQA",
        "colab_type": "code",
        "colab": {}
      },
      "cell_type": "code",
      "source": [
        "# Latent Dirichlet Allocation (LDA)"
      ],
      "execution_count": 0,
      "outputs": []
    },
    {
      "metadata": {
        "id": "cqPPV3HqOWpN",
        "colab_type": "text"
      },
      "cell_type": "markdown",
      "source": [
        "## Predicting Character Lines"
      ]
    },
    {
      "metadata": {
        "id": "iPL7cDRkOdmw",
        "colab_type": "text"
      },
      "cell_type": "markdown",
      "source": [
        "We've examined different ways to represent lines in Southpark, let's see if we can determine the authorship of a given line."
      ]
    },
    {
      "metadata": {
        "id": "_HYPDNywOZw9",
        "colab_type": "code",
        "colab": {}
      },
      "cell_type": "code",
      "source": [
        "# Convert bag of words representation to matrix with gensim, then to scipy sparse format"
      ],
      "execution_count": 0,
      "outputs": []
    },
    {
      "metadata": {
        "id": "_DWgs8RzmG6a",
        "colab_type": "code",
        "colab": {}
      },
      "cell_type": "code",
      "source": [
        ""
      ],
      "execution_count": 0,
      "outputs": []
    },
    {
      "metadata": {
        "id": "4dbLxXdailvx",
        "colab_type": "text"
      },
      "cell_type": "markdown",
      "source": [
        "The code below features the Contextual Salience algorithm, a new approach on existing word importance measures which takes context into account.\n",
        "\n",
        "[arixv](https://arxiv.org/pdf/1803.08493.pdf)"
      ]
    }
  ]
}